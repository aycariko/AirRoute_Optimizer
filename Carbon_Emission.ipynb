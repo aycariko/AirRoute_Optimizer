{
  "cells": [
    {
      "cell_type": "markdown",
      "metadata": {
        "id": "view-in-github",
        "colab_type": "text"
      },
      "source": [
        "<a href=\"https://colab.research.google.com/github/aycariko/AirRoute_Optimizer/blob/main/Carbon_Emission.ipynb\" target=\"_parent\"><img src=\"https://colab.research.google.com/assets/colab-badge.svg\" alt=\"Open In Colab\"/></a>"
      ]
    },
    {
      "cell_type": "code",
      "execution_count": null,
      "metadata": {
        "colab": {
          "base_uri": "https://localhost:8080/"
        },
        "collapsed": true,
        "id": "xxiX3SfKudA7",
        "outputId": "a39f7ee3-3c28-43da-c94a-72ca83750b7f"
      },
      "outputs": [
        {
          "name": "stdout",
          "output_type": "stream",
          "text": [
            "      Body Type     Sex         Diet How Often Shower Heating Energy Source  \\\n",
            "0    overweight  female  pescatarian            daily                  coal   \n",
            "1         obese  female   vegetarian  less frequently           natural gas   \n",
            "2    overweight    male     omnivore  more frequently                  wood   \n",
            "3    overweight    male     omnivore      twice a day                  wood   \n",
            "4         obese  female   vegetarian            daily                  coal   \n",
            "5    overweight    male   vegetarian  less frequently                  wood   \n",
            "6   underweight  female        vegan  less frequently                  wood   \n",
            "7   underweight  female        vegan  more frequently                  coal   \n",
            "8    overweight    male     omnivore            daily                  wood   \n",
            "9   underweight  female  pescatarian            daily                  wood   \n",
            "10       normal  female   vegetarian  more frequently                  wood   \n",
            "11        obese    male   vegetarian  more frequently                  coal   \n",
            "12  underweight  female     omnivore      twice a day                  coal   \n",
            "13  underweight  female        vegan  less frequently           electricity   \n",
            "14        obese    male  pescatarian  less frequently           natural gas   \n",
            "15   overweight  female   vegetarian  less frequently           electricity   \n",
            "16       normal    male  pescatarian  more frequently           electricity   \n",
            "17   overweight  female  pescatarian            daily                  wood   \n",
            "18  underweight    male        vegan  more frequently           electricity   \n",
            "19       normal  female     omnivore  more frequently                  wood   \n",
            "20       normal    male        vegan      twice a day           electricity   \n",
            "21        obese  female  pescatarian  less frequently                  wood   \n",
            "22   overweight    male     omnivore      twice a day                  wood   \n",
            "23        obese    male   vegetarian            daily                  coal   \n",
            "24   overweight    male        vegan            daily                  coal   \n",
            "25        obese  female  pescatarian  less frequently           electricity   \n",
            "26  underweight  female        vegan            daily           electricity   \n",
            "27        obese    male   vegetarian  less frequently           electricity   \n",
            "28        obese    male  pescatarian            daily                  wood   \n",
            "29  underweight  female     omnivore  less frequently           electricity   \n",
            "30        obese  female        vegan  more frequently                  wood   \n",
            "31  underweight  female   vegetarian            daily                  coal   \n",
            "32       normal  female  pescatarian            daily           natural gas   \n",
            "33       normal  female  pescatarian            daily                  wood   \n",
            "34       normal    male   vegetarian      twice a day                  coal   \n",
            "35  underweight  female        vegan  less frequently                  coal   \n",
            "36        obese    male   vegetarian            daily           electricity   \n",
            "37  underweight    male        vegan      twice a day           natural gas   \n",
            "38  underweight    male     omnivore  less frequently                  wood   \n",
            "39  underweight  female  pescatarian  less frequently                  coal   \n",
            "40   overweight  female     omnivore      twice a day           electricity   \n",
            "41       normal  female   vegetarian  more frequently                  coal   \n",
            "42  underweight  female     omnivore            daily           electricity   \n",
            "43       normal  female  pescatarian            daily                  coal   \n",
            "44   overweight    male     omnivore            daily                  wood   \n",
            "45       normal    male   vegetarian  more frequently                  wood   \n",
            "46  underweight    male  pescatarian  less frequently                  wood   \n",
            "47  underweight    male  pescatarian      twice a day           electricity   \n",
            "48   overweight  female   vegetarian  more frequently           natural gas   \n",
            "49   overweight  female        vegan            daily                  wood   \n",
            "\n",
            "       Transport Vehicle Type Social Activity  Monthly Grocery Bill  \\\n",
            "0         public          NaN           often                   230   \n",
            "1   walk/bicycle          NaN           often                   114   \n",
            "2        private       petrol           never                   138   \n",
            "3   walk/bicycle          NaN       sometimes                   157   \n",
            "4        private       diesel           often                   266   \n",
            "5         public          NaN       sometimes                   144   \n",
            "6        private       hybrid           never                    56   \n",
            "7   walk/bicycle          NaN       sometimes                    59   \n",
            "8         public          NaN           never                   200   \n",
            "9         public          NaN           often                   135   \n",
            "10        public          NaN           never                   146   \n",
            "11  walk/bicycle          NaN           never                   111   \n",
            "12  walk/bicycle          NaN           often                   114   \n",
            "13       private          lpg       sometimes                   111   \n",
            "14        public          NaN           often                   123   \n",
            "15        public          NaN           never                   225   \n",
            "16  walk/bicycle          NaN           often                   219   \n",
            "17        public          NaN           often                   104   \n",
            "18       private       petrol           often                   126   \n",
            "19  walk/bicycle          NaN           often                   288   \n",
            "20       private     electric           often                   282   \n",
            "21        public          NaN           never                    69   \n",
            "22  walk/bicycle          NaN       sometimes                   110   \n",
            "23       private       diesel           often                   165   \n",
            "24       private       diesel       sometimes                    62   \n",
            "25  walk/bicycle          NaN       sometimes                    94   \n",
            "26        public          NaN           often                   259   \n",
            "27        public          NaN       sometimes                    67   \n",
            "28  walk/bicycle          NaN           never                   130   \n",
            "29        public          NaN           never                   258   \n",
            "30        public          NaN       sometimes                   189   \n",
            "31  walk/bicycle          NaN       sometimes                   262   \n",
            "32  walk/bicycle          NaN           never                   157   \n",
            "33       private          lpg           often                   280   \n",
            "34  walk/bicycle          NaN       sometimes                   121   \n",
            "35  walk/bicycle          NaN           often                   174   \n",
            "36  walk/bicycle          NaN       sometimes                   173   \n",
            "37  walk/bicycle          NaN       sometimes                   199   \n",
            "38  walk/bicycle          NaN           never                    94   \n",
            "39  walk/bicycle          NaN           never                    64   \n",
            "40        public          NaN           never                   100   \n",
            "41        public          NaN           often                   240   \n",
            "42        public          NaN       sometimes                   245   \n",
            "43  walk/bicycle          NaN       sometimes                   270   \n",
            "44       private     electric           often                   294   \n",
            "45        public          NaN           never                    87   \n",
            "46       private     electric           never                   209   \n",
            "47       private       diesel           never                   124   \n",
            "48        public          NaN       sometimes                   276   \n",
            "49  walk/bicycle          NaN           never                    90   \n",
            "\n",
            "   Frequency of Traveling by Air  Vehicle Monthly Distance Km Waste Bag Size  \\\n",
            "0                     frequently                          210          large   \n",
            "1                         rarely                            9    extra large   \n",
            "2                          never                         2472          small   \n",
            "3                         rarely                           74         medium   \n",
            "4                very frequently                         8457          large   \n",
            "5                     frequently                          658          large   \n",
            "6                         rarely                         5363         medium   \n",
            "7                very frequently                           54    extra large   \n",
            "8                     frequently                         1376         medium   \n",
            "9                         rarely                          440    extra large   \n",
            "10                         never                         1561    extra large   \n",
            "11               very frequently                           69         medium   \n",
            "12                        rarely                           92          large   \n",
            "13                        rarely                         2893          large   \n",
            "14                        rarely                         1989          small   \n",
            "15               very frequently                          692          small   \n",
            "16                    frequently                            7    extra large   \n",
            "17                        rarely                          948          large   \n",
            "18               very frequently                         7622         medium   \n",
            "19                         never                           51          small   \n",
            "20                        rarely                         2237          large   \n",
            "21                        rarely                         1804          large   \n",
            "22                         never                           85          small   \n",
            "23                    frequently                          472          small   \n",
            "24               very frequently                         5737         medium   \n",
            "25                        rarely                           88         medium   \n",
            "26                    frequently                          558          large   \n",
            "27                        rarely                          752          large   \n",
            "28                        rarely                           71          small   \n",
            "29                    frequently                         1028          small   \n",
            "30                    frequently                         1527         medium   \n",
            "31                    frequently                           88          large   \n",
            "32                    frequently                           73         medium   \n",
            "33               very frequently                         8320          small   \n",
            "34                         never                           72         medium   \n",
            "35               very frequently                            9          large   \n",
            "36                    frequently                           60         medium   \n",
            "37                    frequently                           13         medium   \n",
            "38                        rarely                           32          small   \n",
            "39                    frequently                           49          small   \n",
            "40               very frequently                         1351    extra large   \n",
            "41               very frequently                         1726         medium   \n",
            "42                         never                         1021         medium   \n",
            "43                        rarely                           62          small   \n",
            "44               very frequently                         9488          small   \n",
            "45               very frequently                         1037          large   \n",
            "46                         never                         9555          large   \n",
            "47                         never                         9031    extra large   \n",
            "48                    frequently                         1461          large   \n",
            "49               very frequently                           39         medium   \n",
            "\n",
            "    Waste Bag Weekly Count  How Long TV PC Daily Hour  \\\n",
            "0                        4                          7   \n",
            "1                        3                          9   \n",
            "2                        1                         14   \n",
            "3                        3                         20   \n",
            "4                        1                          3   \n",
            "5                        1                         22   \n",
            "6                        4                          9   \n",
            "7                        3                          5   \n",
            "8                        3                          3   \n",
            "9                        1                          8   \n",
            "10                       4                         12   \n",
            "11                       5                          9   \n",
            "12                       3                         18   \n",
            "13                       6                         13   \n",
            "14                       6                         13   \n",
            "15                       6                          9   \n",
            "16                       4                         23   \n",
            "17                       6                          1   \n",
            "18                       2                          6   \n",
            "19                       4                         15   \n",
            "20                       6                          0   \n",
            "21                       1                          6   \n",
            "22                       3                         14   \n",
            "23                       4                         17   \n",
            "24                       1                          5   \n",
            "25                       6                         17   \n",
            "26                       4                          4   \n",
            "27                       3                         14   \n",
            "28                       2                         10   \n",
            "29                       2                         13   \n",
            "30                       4                         23   \n",
            "31                       5                         24   \n",
            "32                       4                          1   \n",
            "33                       5                          9   \n",
            "34                       6                         11   \n",
            "35                       2                          1   \n",
            "36                       2                         16   \n",
            "37                       5                         17   \n",
            "38                       6                         15   \n",
            "39                       1                         19   \n",
            "40                       1                         20   \n",
            "41                       2                         15   \n",
            "42                       7                         14   \n",
            "43                       5                         22   \n",
            "44                       5                         16   \n",
            "45                       4                          0   \n",
            "46                       2                         13   \n",
            "47                       5                          1   \n",
            "48                       7                         19   \n",
            "49                       3                         22   \n",
            "\n",
            "    How Many New Clothes Monthly  How Long Internet Daily Hour  \\\n",
            "0                             26                             1   \n",
            "1                             38                             5   \n",
            "2                             47                             6   \n",
            "3                              5                             7   \n",
            "4                              5                             6   \n",
            "5                             18                             9   \n",
            "6                             11                            19   \n",
            "7                             39                            15   \n",
            "8                             31                            15   \n",
            "9                             23                            18   \n",
            "10                            27                            21   \n",
            "11                             4                             4   \n",
            "12                            27                             4   \n",
            "13                            16                            10   \n",
            "14                            23                             8   \n",
            "15                            24                            15   \n",
            "16                            42                            14   \n",
            "17                             6                            22   \n",
            "18                            37                             9   \n",
            "19                            22                             6   \n",
            "20                             8                             5   \n",
            "21                             3                             7   \n",
            "22                             4                             3   \n",
            "23                            24                            20   \n",
            "24                            20                            20   \n",
            "25                             0                             3   \n",
            "26                            50                            23   \n",
            "27                            37                            14   \n",
            "28                            15                            10   \n",
            "29                            44                             4   \n",
            "30                            34                            10   \n",
            "31                             8                            15   \n",
            "32                            42                            22   \n",
            "33                             0                             4   \n",
            "34                             4                            10   \n",
            "35                            40                            15   \n",
            "36                            14                            20   \n",
            "37                             6                            15   \n",
            "38                             5                            17   \n",
            "39                            47                            16   \n",
            "40                            24                             5   \n",
            "41                            19                             5   \n",
            "42                            48                            10   \n",
            "43                            21                            11   \n",
            "44                            20                            18   \n",
            "45                            11                            24   \n",
            "46                            43                             3   \n",
            "47                            11                             5   \n",
            "48                             5                            12   \n",
            "49                             7                             9   \n",
            "\n",
            "   Energy efficiency                               Recycling  \\\n",
            "0                 No                               ['Metal']   \n",
            "1                 No                               ['Metal']   \n",
            "2          Sometimes                               ['Metal']   \n",
            "3          Sometimes  ['Paper', 'Plastic', 'Glass', 'Metal']   \n",
            "4                Yes                               ['Paper']   \n",
            "5          Sometimes             ['Paper', 'Glass', 'Metal']   \n",
            "6          Sometimes                                      []   \n",
            "7                 No           ['Paper', 'Plastic', 'Glass']   \n",
            "8                Yes                               ['Glass']   \n",
            "9          Sometimes                               ['Glass']   \n",
            "10                No                    ['Paper', 'Plastic']   \n",
            "11         Sometimes                                      []   \n",
            "12               Yes                             ['Plastic']   \n",
            "13         Sometimes           ['Plastic', 'Glass', 'Metal']   \n",
            "14                No           ['Paper', 'Plastic', 'Metal']   \n",
            "15                No  ['Paper', 'Plastic', 'Glass', 'Metal']   \n",
            "16         Sometimes                                      []   \n",
            "17               Yes                               ['Paper']   \n",
            "18         Sometimes                                      []   \n",
            "19                No             ['Paper', 'Glass', 'Metal']   \n",
            "20                No           ['Plastic', 'Glass', 'Metal']   \n",
            "21                No                               ['Metal']   \n",
            "22         Sometimes  ['Paper', 'Plastic', 'Glass', 'Metal']   \n",
            "23               Yes                      ['Paper', 'Glass']   \n",
            "24               Yes                      ['Paper', 'Metal']   \n",
            "25         Sometimes           ['Paper', 'Plastic', 'Metal']   \n",
            "26         Sometimes                               ['Metal']   \n",
            "27         Sometimes                             ['Plastic']   \n",
            "28                No                               ['Glass']   \n",
            "29               Yes                      ['Glass', 'Metal']   \n",
            "30               Yes                      ['Glass', 'Metal']   \n",
            "31         Sometimes                                      []   \n",
            "32                No             ['Paper', 'Glass', 'Metal']   \n",
            "33         Sometimes                      ['Paper', 'Metal']   \n",
            "34               Yes                      ['Glass', 'Metal']   \n",
            "35               Yes           ['Paper', 'Plastic', 'Glass']   \n",
            "36         Sometimes                    ['Plastic', 'Glass']   \n",
            "37                No             ['Paper', 'Glass', 'Metal']   \n",
            "38         Sometimes                      ['Glass', 'Metal']   \n",
            "39               Yes                    ['Plastic', 'Glass']   \n",
            "40               Yes           ['Paper', 'Plastic', 'Glass']   \n",
            "41                No                      ['Glass', 'Metal']   \n",
            "42                No             ['Paper', 'Glass', 'Metal']   \n",
            "43         Sometimes                             ['Plastic']   \n",
            "44               Yes                               ['Glass']   \n",
            "45                No                    ['Paper', 'Plastic']   \n",
            "46               Yes             ['Paper', 'Glass', 'Metal']   \n",
            "47               Yes                    ['Plastic', 'Glass']   \n",
            "48         Sometimes                               ['Metal']   \n",
            "49               Yes           ['Paper', 'Plastic', 'Metal']   \n",
            "\n",
            "                                         Cooking_With  CarbonEmission  \n",
            "0                                   ['Stove', 'Oven']            2238  \n",
            "1                              ['Stove', 'Microwave']            1892  \n",
            "2                               ['Oven', 'Microwave']            2595  \n",
            "3                  ['Microwave', 'Grill', 'Airfryer']            1074  \n",
            "4                                            ['Oven']            4743  \n",
            "5                      ['Stove', 'Oven', 'Microwave']            1647  \n",
            "6                               ['Grill', 'Airfryer']            1832  \n",
            "7                              ['Stove', 'Microwave']            2322  \n",
            "8                  ['Microwave', 'Grill', 'Airfryer']            2494  \n",
            "9                  ['Microwave', 'Grill', 'Airfryer']            1178  \n",
            "10                             ['Stove', 'Microwave']            1427  \n",
            "11                     ['Stove', 'Oven', 'Microwave']            3226  \n",
            "12                                          ['Stove']            1593  \n",
            "13  ['Stove', 'Oven', 'Microwave', 'Grill', 'Airfr...            1732  \n",
            "14                                  ['Stove', 'Oven']            1743  \n",
            "15                                  ['Stove', 'Oven']            2101  \n",
            "16         ['Oven', 'Microwave', 'Grill', 'Airfryer']            2609  \n",
            "17                     ['Stove', 'Grill', 'Airfryer']            1565  \n",
            "18                                          ['Stove']            5272  \n",
            "19                                  ['Stove', 'Oven']            1220  \n",
            "20                      ['Oven', 'Grill', 'Airfryer']            1300  \n",
            "21                     ['Stove', 'Oven', 'Microwave']            1024  \n",
            "22  ['Stove', 'Oven', 'Microwave', 'Grill', 'Airfr...             706  \n",
            "23                                      ['Microwave']            2582  \n",
            "24                              ['Grill', 'Airfryer']            4284  \n",
            "25  ['Stove', 'Oven', 'Microwave', 'Grill', 'Airfr...             807  \n",
            "26                      ['Oven', 'Grill', 'Airfryer']            1991  \n",
            "27                                          ['Stove']            1817  \n",
            "28                      ['Oven', 'Grill', 'Airfryer']            1490  \n",
            "29         ['Oven', 'Microwave', 'Grill', 'Airfryer']            1561  \n",
            "30                 ['Microwave', 'Grill', 'Airfryer']            2202  \n",
            "31                 ['Microwave', 'Grill', 'Airfryer']            2024  \n",
            "32  ['Stove', 'Oven', 'Microwave', 'Grill', 'Airfr...            1659  \n",
            "33             ['Stove', 'Oven', 'Grill', 'Airfryer']            3911  \n",
            "34        ['Stove', 'Microwave', 'Grill', 'Airfryer']            1204  \n",
            "35                             ['Stove', 'Microwave']            2431  \n",
            "36                                                 []            1640  \n",
            "37  ['Stove', 'Oven', 'Microwave', 'Grill', 'Airfr...            1648  \n",
            "38                 ['Microwave', 'Grill', 'Airfryer']            1002  \n",
            "39  ['Stove', 'Oven', 'Microwave', 'Grill', 'Airfr...            1771  \n",
            "40        ['Stove', 'Microwave', 'Grill', 'Airfryer']            2028  \n",
            "41                                  ['Stove', 'Oven']            2540  \n",
            "42             ['Stove', 'Oven', 'Grill', 'Airfryer']            1386  \n",
            "43  ['Stove', 'Oven', 'Microwave', 'Grill', 'Airfr...            1679  \n",
            "44                                                 []            3141  \n",
            "45  ['Stove', 'Oven', 'Microwave', 'Grill', 'Airfr...            2627  \n",
            "46         ['Oven', 'Microwave', 'Grill', 'Airfryer']            1188  \n",
            "47                     ['Stove', 'Grill', 'Airfryer']            3174  \n",
            "48  ['Stove', 'Oven', 'Microwave', 'Grill', 'Airfr...            2327  \n",
            "49                     ['Stove', 'Oven', 'Microwave']            1822  \n",
            "<class 'pandas.core.frame.DataFrame'>\n",
            "RangeIndex: 10000 entries, 0 to 9999\n",
            "Data columns (total 20 columns):\n",
            " #   Column                         Non-Null Count  Dtype \n",
            "---  ------                         --------------  ----- \n",
            " 0   Body Type                      10000 non-null  object\n",
            " 1   Sex                            10000 non-null  object\n",
            " 2   Diet                           10000 non-null  object\n",
            " 3   How Often Shower               10000 non-null  object\n",
            " 4   Heating Energy Source          10000 non-null  object\n",
            " 5   Transport                      10000 non-null  object\n",
            " 6   Vehicle Type                   3279 non-null   object\n",
            " 7   Social Activity                10000 non-null  object\n",
            " 8   Monthly Grocery Bill           10000 non-null  int64 \n",
            " 9   Frequency of Traveling by Air  10000 non-null  object\n",
            " 10  Vehicle Monthly Distance Km    10000 non-null  int64 \n",
            " 11  Waste Bag Size                 10000 non-null  object\n",
            " 12  Waste Bag Weekly Count         10000 non-null  int64 \n",
            " 13  How Long TV PC Daily Hour      10000 non-null  int64 \n",
            " 14  How Many New Clothes Monthly   10000 non-null  int64 \n",
            " 15  How Long Internet Daily Hour   10000 non-null  int64 \n",
            " 16  Energy efficiency              10000 non-null  object\n",
            " 17  Recycling                      10000 non-null  object\n",
            " 18  Cooking_With                   10000 non-null  object\n",
            " 19  CarbonEmission                 10000 non-null  int64 \n",
            "dtypes: int64(7), object(13)\n",
            "memory usage: 1.5+ MB\n",
            "Satır sayısı: 10000\n",
            "Sütun sayısı: 20\n",
            "Nümerik değişkenler: ['Monthly Grocery Bill', 'Vehicle Monthly Distance Km', 'Waste Bag Weekly Count', 'How Long TV PC Daily Hour', 'How Many New Clothes Monthly', 'How Long Internet Daily Hour', 'CarbonEmission']\n",
            "Kategorik değişkenler: ['Body Type', 'Sex', 'Diet', 'How Often Shower', 'Heating Energy Source', 'Transport', 'Vehicle Type', 'Social Activity', 'Frequency of Traveling by Air', 'Waste Bag Size', 'Energy efficiency', 'Recycling', 'Cooking_With']\n"
          ]
        }
      ],
      "source": [
        "\n",
        "import numpy as np\n",
        "import pandas as pd\n",
        "from sklearn.model_selection import train_test_split\n",
        "\n",
        "\n",
        "df = pd.read_csv('Carbon_Emission.csv')\n",
        "print(df.head(50))\n",
        "\n",
        "\n",
        "df.info()\n",
        "\n",
        "\n",
        "\n",
        "df = pd.read_csv(\"Carbon_Emission.csv\")\n",
        "print(\"Satır sayısı:\", df.shape[0])\n",
        "print(\"Sütun sayısı:\", df.shape[1])\n",
        "\n",
        "# Nümerik sütunlar\n",
        "numerical_columns = df.select_dtypes(include=['int64', 'float64']).columns.tolist()\n",
        "print(\"Nümerik değişkenler:\", numerical_columns)\n",
        "\n",
        "# Kategorik sütunlar\n",
        "categorical_columns = df.select_dtypes(include=['object']).columns.tolist()\n",
        "print(\"Kategorik değişkenler:\", categorical_columns)"
      ]
    },
    {
      "cell_type": "code",
      "execution_count": null,
      "metadata": {
        "id": "rW4g-Y5O0ZP8"
      },
      "outputs": [],
      "source": [
        "target_variable = \"CarbonEmission\"\n"
      ]
    },
    {
      "cell_type": "code",
      "execution_count": null,
      "metadata": {
        "colab": {
          "base_uri": "https://localhost:8080/",
          "height": 487
        },
        "collapsed": true,
        "id": "i027KgN80g40",
        "outputId": "94465215-c61b-48ea-a9a8-4025b9394f47"
      },
      "outputs": [
        {
          "data": {
            "image/png": "[encoded data removed]",
            "text/plain": [
              "<Figure size 800x500 with 1 Axes>"
            ]
          },
          "metadata": {},
          "output_type": "display_data"
        }
      ],
      "source": [
        "import matplotlib.pyplot as plt\n",
        "import seaborn as sns\n",
        "\n",
        "plt.figure(figsize=(8, 5))\n",
        "sns.histplot(df[\"CarbonEmission\"], kde=True, bins=30)\n",
        "plt.title(\"Carbon Emission Dağılımı\")\n",
        "plt.xlabel(\"CarbonEmission\")\n",
        "plt.ylabel(\"Frekans\")\n",
        "plt.show()\n"
      ]
    },
    {
      "cell_type": "code",
      "execution_count": null,
      "metadata": {
        "colab": {
          "base_uri": "https://localhost:8080/"
        },
        "id": "SCKZA8qC0uvy",
        "outputId": "501e8b86-85d1-4c2c-b4b1-9d3425bdaabb"
      },
      "outputs": [
        {
          "name": "stdout",
          "output_type": "stream",
          "text": [
            "EmissionLevel\n",
            "Low       3339\n",
            "High      3334\n",
            "Medium    3327\n",
            "Name: count, dtype: int64\n"
          ]
        }
      ],
      "source": [
        "df['EmissionLevel'] = pd.qcut(df['CarbonEmission'], q=3, labels=[\"Low\", \"Medium\", \"High\"])\n",
        "print(df['EmissionLevel'].value_counts())\n"
      ]
    },
    {
      "cell_type": "code",
      "execution_count": null,
      "metadata": {
        "colab": {
          "base_uri": "https://localhost:8080/"
        },
        "id": "IfYaT5g003Jh",
        "outputId": "211985eb-21e7-48b9-ba8a-6de12ddc0e44"
      },
      "outputs": [
        {
          "name": "stdout",
          "output_type": "stream",
          "text": [
            "Eksik değer olan sütunlar:\n",
            " Vehicle Type    6721\n",
            "dtype: int64\n"
          ]
        }
      ],
      "source": [
        "missing_summary = df.isnull().sum()\n",
        "print(\"Eksik değer olan sütunlar:\\n\", missing_summary[missing_summary > 0])\n"
      ]
    },
    {
      "cell_type": "code",
      "execution_count": null,
      "metadata": {
        "colab": {
          "base_uri": "https://localhost:8080/"
        },
        "id": "5hd8E1970_l-",
        "outputId": "b1e93725-8f50-48d7-a837-fe0a9269b9a4"
      },
      "outputs": [
        {
          "name": "stdout",
          "output_type": "stream",
          "text": [
            "Eksik veri oranları (%):\n",
            " Vehicle Type    67.21\n",
            "dtype: float64\n"
          ]
        }
      ],
      "source": [
        "missing_percentage = df.isnull().mean() * 100\n",
        "print(\"Eksik veri oranları (%):\\n\", missing_percentage[missing_percentage > 0])\n"
      ]
    },
    {
      "cell_type": "code",
      "execution_count": null,
      "metadata": {
        "colab": {
          "base_uri": "https://localhost:8080/"
        },
        "collapsed": true,
        "id": "vmeFEnjZ1MJq",
        "outputId": "1940c2d0-85cc-4d23-9ce7-92c7927338a8"
      },
      "outputs": [
        {
          "name": "stdout",
          "output_type": "stream",
          "text": [
            "Body Type                           0\n",
            "Sex                                 0\n",
            "Diet                                0\n",
            "How Often Shower                    0\n",
            "Heating Energy Source               0\n",
            "Transport                           0\n",
            "Vehicle Type                     6721\n",
            "Social Activity                     0\n",
            "Monthly Grocery Bill                0\n",
            "Frequency of Traveling by Air       0\n",
            "Vehicle Monthly Distance Km         0\n",
            "Waste Bag Size                      0\n",
            "Waste Bag Weekly Count              0\n",
            "How Long TV PC Daily Hour           0\n",
            "How Many New Clothes Monthly        0\n",
            "How Long Internet Daily Hour        0\n",
            "Energy efficiency                   0\n",
            "Recycling                           0\n",
            "Cooking_With                        0\n",
            "CarbonEmission                      0\n",
            "EmissionLevel                       0\n",
            "dtype: int64\n",
            "Body Type                         0.00\n",
            "Sex                               0.00\n",
            "Diet                              0.00\n",
            "How Often Shower                  0.00\n",
            "Heating Energy Source             0.00\n",
            "Transport                         0.00\n",
            "Vehicle Type                     67.21\n",
            "Social Activity                   0.00\n",
            "Monthly Grocery Bill              0.00\n",
            "Frequency of Traveling by Air     0.00\n",
            "Vehicle Monthly Distance Km       0.00\n",
            "Waste Bag Size                    0.00\n",
            "Waste Bag Weekly Count            0.00\n",
            "How Long TV PC Daily Hour         0.00\n",
            "How Many New Clothes Monthly      0.00\n",
            "How Long Internet Daily Hour      0.00\n",
            "Energy efficiency                 0.00\n",
            "Recycling                         0.00\n",
            "Cooking_With                      0.00\n",
            "CarbonEmission                    0.00\n",
            "EmissionLevel                     0.00\n",
            "dtype: float64\n"
          ]
        }
      ],
      "source": [
        "# Her sütundaki eksik değer sayısı\n",
        "print(df.isnull().sum())\n",
        "\n",
        "# Eksik değer oranı (%)\n",
        "print((df.isnull().mean() * 100).round(2))\n"
      ]
    },
    {
      "cell_type": "code",
      "execution_count": null,
      "metadata": {
        "colab": {
          "base_uri": "https://localhost:8080/"
        },
        "id": "9VXz0fo_3aFo",
        "outputId": "910413c1-cea3-46e4-adda-98388242d486"
      },
      "outputs": [
        {
          "name": "stdout",
          "output_type": "stream",
          "text": [
            "Çıkartılabilecek sütunlar: ['Vehicle Type']\n"
          ]
        }
      ],
      "source": [
        "# Eksik oranı %60’tan fazla olan sütunları kontrol et\n",
        "missing_ratio = df.isnull().mean() * 100\n",
        "high_missing_cols = missing_ratio[missing_ratio > 60].index.tolist()\n",
        "print(\"Çıkartılabilecek sütunlar:\", high_missing_cols)\n",
        "\n"
      ]
    },
    {
      "cell_type": "code",
      "execution_count": null,
      "metadata": {
        "id": "BFPqMcKJ3nNr"
      },
      "outputs": [],
      "source": [
        "\n",
        "# df = pd.read_csv(\"Carbon_Emission.csv\")\n"
      ]
    },
    {
      "cell_type": "code",
      "execution_count": null,
      "metadata": {
        "colab": {
          "base_uri": "https://localhost:8080/"
        },
        "id": "m15k_gc45FvR",
        "outputId": "3ee8dc4c-0f84-4a22-ed29-4f9cd8a790c3"
      },
      "outputs": [
        {
          "name": "stdout",
          "output_type": "stream",
          "text": [
            "Vehicle Type\n",
            "lpg         697\n",
            "electric    671\n",
            "petrol      647\n",
            "hybrid      642\n",
            "diesel      622\n",
            "Name: count, dtype: int64\n"
          ]
        }
      ],
      "source": [
        "print(df['Vehicle Type'].value_counts())\n"
      ]
    },
    {
      "cell_type": "code",
      "execution_count": null,
      "metadata": {
        "colab": {
          "base_uri": "https://localhost:8080/"
        },
        "id": "EQEz5kiX7N7_",
        "outputId": "57e80b37-2161-44aa-e298-79535f8b0e1f"
      },
      "outputs": [
        {
          "name": "stdout",
          "output_type": "stream",
          "text": [
            "Transport\n",
            "walk/bicycle    3427\n",
            "public          3294\n",
            "private         3279\n",
            "Name: count, dtype: int64\n"
          ]
        }
      ],
      "source": [
        "print(df['Transport'].value_counts())"
      ]
    },
    {
      "cell_type": "code",
      "execution_count": null,
      "metadata": {
        "collapsed": true,
        "id": "UZLm4HXD592h"
      },
      "outputs": [],
      "source": [
        "# Transport bilgisiyle araçsız olanları seç\n",
        "no_vehicle_mask = df['Transport'].isin(['walk/bicycle', 'public'])\n",
        "\n",
        "# Araçsız kullanıcılar için 'Not Applicable' olarak doldur\n",
        "df.loc[no_vehicle_mask, 'Vehicle Type'] = 'Not Applicable'\n",
        "\n",
        "# Diğer eksik kalanlar için mod ile doldur\n",
        "df['Vehicle Type'] = df['Vehicle Type'].fillna(df['Vehicle Type'].mode()[0])\n",
        "\n",
        "\n",
        "\n"
      ]
    },
    {
      "cell_type": "code",
      "execution_count": null,
      "metadata": {
        "colab": {
          "base_uri": "https://localhost:8080/"
        },
        "id": "iT5Nk1o375ES",
        "outputId": "723b1b88-62f3-4d06-d71b-497749df35f8"
      },
      "outputs": [
        {
          "name": "stdout",
          "output_type": "stream",
          "text": [
            "Vehicle Type\n",
            "Not Applicable    6721\n",
            "lpg                697\n",
            "electric           671\n",
            "petrol             647\n",
            "hybrid             642\n",
            "diesel             622\n",
            "Name: count, dtype: int64\n"
          ]
        }
      ],
      "source": [
        "print(df['Vehicle Type'].value_counts())"
      ]
    },
    {
      "cell_type": "code",
      "execution_count": null,
      "metadata": {
        "colab": {
          "base_uri": "https://localhost:8080/"
        },
        "id": "u_OuomVK-6aa",
        "outputId": "12973690-0097-45d8-eeef-16fac10c1936"
      },
      "outputs": [
        {
          "name": "stdout",
          "output_type": "stream",
          "text": [
            "Energy efficiency\n",
            "Sometimes    3463\n",
            "Yes          3316\n",
            "No           3221\n",
            "Name: count, dtype: int64\n"
          ]
        }
      ],
      "source": [
        "print(df['Energy efficiency'].value_counts())"
      ]
    },
    {
      "cell_type": "code",
      "execution_count": null,
      "metadata": {
        "colab": {
          "base_uri": "https://localhost:8080/"
        },
        "id": "e_N8r2i-_FnA",
        "outputId": "f6756845-a36c-4d47-ea58-47de8c928ac0"
      },
      "outputs": [
        {
          "name": "stdout",
          "output_type": "stream",
          "text": [
            "Frequency of Traveling by Air\n",
            "very frequently    2540\n",
            "frequently         2524\n",
            "rarely             2477\n",
            "never              2459\n",
            "Name: count, dtype: int64\n"
          ]
        }
      ],
      "source": [
        "print(df['Frequency of Traveling by Air'].value_counts())"
      ]
    },
    {
      "cell_type": "code",
      "execution_count": null,
      "metadata": {
        "colab": {
          "base_uri": "https://localhost:8080/"
        },
        "id": "Jhp2y48o_NiW",
        "outputId": "d6c60315-f28a-4c4c-de95-6ffe647237e7"
      },
      "outputs": [
        {
          "name": "stdout",
          "output_type": "stream",
          "text": [
            "How Often Shower\n",
            "daily              2546\n",
            "twice a day        2516\n",
            "less frequently    2487\n",
            "more frequently    2451\n",
            "Name: count, dtype: int64\n"
          ]
        }
      ],
      "source": [
        "print(df['How Often Shower'].value_counts())"
      ]
    },
    {
      "cell_type": "code",
      "execution_count": null,
      "metadata": {
        "colab": {
          "base_uri": "https://localhost:8080/"
        },
        "id": "-BjsaX-g_aB9",
        "outputId": "286df985-415f-422e-f90c-eacfeb82a15f"
      },
      "outputs": [
        {
          "name": "stdout",
          "output_type": "stream",
          "text": [
            "Social Activity\n",
            "never        3406\n",
            "often        3319\n",
            "sometimes    3275\n",
            "Name: count, dtype: int64\n"
          ]
        }
      ],
      "source": [
        "print(df['Social Activity'].value_counts())"
      ]
    },
    {
      "cell_type": "code",
      "execution_count": null,
      "metadata": {
        "colab": {
          "base_uri": "https://localhost:8080/"
        },
        "id": "aXy6KdhqA7gC",
        "outputId": "47d7f14b-4694-4145-92a2-2addcd3b5cb8"
      },
      "outputs": [
        {
          "name": "stdout",
          "output_type": "stream",
          "text": [
            "Waste Bag Size\n",
            "small          2525\n",
            "large          2501\n",
            "extra large    2500\n",
            "medium         2474\n",
            "Name: count, dtype: int64\n"
          ]
        }
      ],
      "source": [
        "print(df['Waste Bag Size'].value_counts())"
      ]
    },
    {
      "cell_type": "code",
      "execution_count": null,
      "metadata": {
        "id": "YT6yySBz-ZDu"
      },
      "outputs": [],
      "source": [
        "from sklearn.preprocessing import OrdinalEncoder\n",
        "\n",
        "ordinal_features = {\n",
        "    'Energy efficiency': ['No', 'Yes','Sometimes'],\n",
        "    'Frequency of Traveling by Air': ['very frequently', 'frequently', 'rarely', 'never',],\n",
        "    'How Often Shower': ['daily','twice a day', 'less frequently','more frequently'],\n",
        "    'Social Activity': ['never','often','sometimes'],\n",
        "    'Waste Bag Size': ['small', 'medium', 'large', 'extra large']\n",
        "}\n",
        "\n",
        "for feature, order in ordinal_features.items():\n",
        "    encoder = OrdinalEncoder(categories=[order])\n",
        "    df[feature + '_encoded'] = encoder.fit_transform(df[[feature]])\n"
      ]
    },
    {
      "cell_type": "code",
      "execution_count": null,
      "metadata": {
        "id": "l5YXILQ7vaul"
      },
      "outputs": [],
      "source": [
        "\n",
        "\n",
        "# ✅ Buraya ekle: Orijinal kategorik sütunları çıkar\n",
        "df.drop(columns=list(ordinal_features.keys()), inplace=True)\n"
      ]
    },
    {
      "cell_type": "code",
      "execution_count": null,
      "metadata": {
        "id": "TE610G_fBca6"
      },
      "outputs": [],
      "source": [
        "nominal_features = ['Diet', 'Transport', 'Heating Energy Source', 'Body Type',\n",
        "                    'Sex', 'Vehicle Type', 'Cooking_With', 'Recycling']\n",
        "\n",
        "df = pd.get_dummies(df, columns=nominal_features, drop_first=True)\n",
        "\n"
      ]
    },
    {
      "cell_type": "code",
      "execution_count": null,
      "metadata": {
        "id": "rUP50TcsF3n_"
      },
      "outputs": [],
      "source": [
        "from sklearn.preprocessing import StandardScaler\n",
        "\n",
        "numerical_features = ['Monthly Grocery Bill', 'Vehicle Monthly Distance Km',\n",
        "                     'Waste Bag Weekly Count', 'How Many New Clothes Monthly']\n",
        "\n",
        "scaler = StandardScaler()\n",
        "df[numerical_features] = scaler.fit_transform(df[numerical_features])\n"
      ]
    },
    {
      "cell_type": "code",
      "execution_count": null,
      "metadata": {
        "id": "2Oq1vKnMF7Bm"
      },
      "outputs": [],
      "source": [
        "# EmissionLevel (low, medium, high) stratify için tekrar oluşturulabilir\n",
        "df['EmissionLevel'] = pd.qcut(df['CarbonEmission'], q=3, labels=[\"Low\", \"Medium\", \"High\"])\n",
        "\n",
        "X = df.drop(columns=['CarbonEmission', 'EmissionLevel'])\n",
        "y = df['CarbonEmission']\n",
        "\n",
        "from sklearn.model_selection import train_test_split\n",
        "\n",
        "X_train, X_test, y_train, y_test = train_test_split(\n",
        "    X, y, test_size=0.2, stratify=df['EmissionLevel'], random_state=42\n",
        ")\n"
      ]
    },
    {
      "cell_type": "code",
      "execution_count": null,
      "metadata": {
        "colab": {
          "base_uri": "https://localhost:8080/"
        },
        "id": "37O7HibigVVZ",
        "outputId": "5f44dd05-82ff-4535-b13b-6a8983e1d769"
      },
      "outputs": [
        {
          "name": "stdout",
          "output_type": "stream",
          "text": [
            "                         R²        RMSE         MAE\n",
            "Gradient Boosting  0.953096  220.174811  165.165001\n",
            "Random Forest      0.914682  296.773691  225.319111\n",
            "Ridge Regression   0.914337  297.589754  216.970427\n",
            "Linear Regression  0.914335  297.592627  217.018600\n"
          ]
        }
      ],
      "source": [
        "from sklearn.model_selection import cross_val_score, KFold\n",
        "from sklearn.linear_model import LinearRegression, Ridge\n",
        "from sklearn.ensemble import RandomForestRegressor, GradientBoostingRegressor\n",
        "from sklearn.metrics import mean_squared_error, r2_score, mean_absolute_error\n",
        "import numpy as np\n",
        "import pandas as pd\n",
        "\n",
        "# 1. Modelleri tanımla\n",
        "models = {\n",
        "    'Linear Regression': LinearRegression(),\n",
        "    'Ridge Regression': Ridge(),\n",
        "    'Random Forest': RandomForestRegressor(random_state=42),\n",
        "    'Gradient Boosting': GradientBoostingRegressor(random_state=42)\n",
        "}\n",
        "\n",
        "# 2. Cross-validation ayarları\n",
        "kf = KFold(n_splits=5, shuffle=True, random_state=42)\n",
        "cv_results = {}\n",
        "\n",
        "# 3. Her model için skorları hesapla\n",
        "for name, model in models.items():\n",
        "    r2 = cross_val_score(model, X_train, y_train, cv=kf, scoring='r2')\n",
        "    mse = -cross_val_score(model, X_train, y_train, cv=kf, scoring='neg_mean_squared_error')\n",
        "    rmse = np.sqrt(mse)\n",
        "    mae = -cross_val_score(model, X_train, y_train, cv=kf, scoring='neg_mean_absolute_error')\n",
        "\n",
        "    cv_results[name] = {\n",
        "        'R²': np.mean(r2),\n",
        "        'RMSE': np.mean(rmse),\n",
        "        'MAE': np.mean(mae)\n",
        "    }\n",
        "\n",
        "# 4. Sonuçları tablo halinde göster\n",
        "results_df = pd.DataFrame(cv_results).T.sort_values(by='R²', ascending=False)\n",
        "print(results_df)\n"
      ]
    },
    {
      "cell_type": "code",
      "source": [
        "from sklearn.model_selection import GridSearchCV\n",
        "from sklearn.ensemble import GradientBoostingRegressor\n",
        "\n",
        "# Grid aralığını sade tut!\n",
        "param_grid = {\n",
        "    'n_estimators': [100, 200],\n",
        "    'learning_rate': [0.05, 0.1],\n",
        "    'max_depth': [3, 5],\n",
        "    'min_samples_split': [2, 5],\n",
        "    'min_samples_leaf': [1, 2]\n",
        "}\n",
        "\n",
        "grid_search = GridSearchCV(\n",
        "    GradientBoostingRegressor(random_state=42),\n",
        "    param_grid=param_grid,\n",
        "    cv=5,\n",
        "    scoring='r2',\n",
        "    n_jobs=-1,\n",
        "    verbose=1\n",
        ")\n",
        "\n",
        "grid_search.fit(X_train, y_train)\n",
        "\n",
        "print(\"Best Parameters:\", grid_search.best_params_)\n",
        "print(\"Best R² Score (CV):\", grid_search.best_score_)\n"
      ],
      "metadata": {
        "colab": {
          "base_uri": "https://localhost:8080/"
        },
        "id": "Es_5bnnWTrXU",
        "outputId": "148e3fb2-eab9-446b-c7fd-148cd2859c0f"
      },
      "execution_count": 174,
      "outputs": [
        {
          "output_type": "stream",
          "name": "stdout",
          "text": [
            "Fitting 5 folds for each of 32 candidates, totalling 160 fits\n",
            "Best Parameters: {'learning_rate': 0.1, 'max_depth': 5, 'min_samples_leaf': 1, 'min_samples_split': 5, 'n_estimators': 200}\n",
            "Best R² Score (CV): 0.9796454175076356\n"
          ]
        }
      ]
    },
    {
      "cell_type": "code",
      "source": [
        "best_model = GradientBoostingRegressor(**grid_search.best_params_, random_state=42)\n",
        "best_model.fit(X_train, y_train)\n"
      ],
      "metadata": {
        "colab": {
          "base_uri": "https://localhost:8080/",
          "height": 97
        },
        "collapsed": true,
        "id": "w0gKS7NdWKlH",
        "outputId": "8c2cf4a0-b5c3-4eef-99fb-76d9756ac515"
      },
      "execution_count": 176,
      "outputs": [
        {
          "output_type": "execute_result",
          "data": {
            "text/plain": [
              "GradientBoostingRegressor(max_depth=5, min_samples_split=5, n_estimators=200,\n",
              "                          random_state=42)"
            ],
            "text/html": [
              "<style>#sk-container-id-2 {\n",
              "  /* Definition of color scheme common for light and dark mode */\n",
              "  --sklearn-color-text: #000;\n",
              "  --sklearn-color-text-muted: #666;\n",
              "  --sklearn-color-line: gray;\n",
              "  /* Definition of color scheme for unfitted estimators */\n",
              "  --sklearn-color-unfitted-level-0: #fff5e6;\n",
              "  --sklearn-color-unfitted-level-1: #f6e4d2;\n",
              "  --sklearn-color-unfitted-level-2: #ffe0b3;\n",
              "  --sklearn-color-unfitted-level-3: chocolate;\n",
              "  /* Definition of color scheme for fitted estimators */\n",
              "  --sklearn-color-fitted-level-0: #f0f8ff;\n",
              "  --sklearn-color-fitted-level-1: #d4ebff;\n",
              "  --sklearn-color-fitted-level-2: #b3dbfd;\n",
              "  --sklearn-color-fitted-level-3: cornflowerblue;\n",
              "\n",
              "  /* Specific color for light theme */\n",
              "  --sklearn-color-text-on-default-background: var(--sg-text-color, var(--theme-code-foreground, var(--jp-content-font-color1, black)));\n",
              "  --sklearn-color-background: var(--sg-background-color, var(--theme-background, var(--jp-layout-color0, white)));\n",
              "  --sklearn-color-border-box: var(--sg-text-color, var(--theme-code-foreground, var(--jp-content-font-color1, black)));\n",
              "  --sklearn-color-icon: #696969;\n",
              "\n",
              "  @media (prefers-color-scheme: dark) {\n",
              "    /* Redefinition of color scheme for dark theme */\n",
              "    --sklearn-color-text-on-default-background: var(--sg-text-color, var(--theme-code-foreground, var(--jp-content-font-color1, white)));\n",
              "    --sklearn-color-background: var(--sg-background-color, var(--theme-background, var(--jp-layout-color0, #111)));\n",
              "    --sklearn-color-border-box: var(--sg-text-color, var(--theme-code-foreground, var(--jp-content-font-color1, white)));\n",
              "    --sklearn-color-icon: #878787;\n",
              "  }\n",
              "}\n",
              "\n",
              "#sk-container-id-2 {\n",
              "  color: var(--sklearn-color-text);\n",
              "}\n",
              "\n",
              "#sk-container-id-2 pre {\n",
              "  padding: 0;\n",
              "}\n",
              "\n",
              "#sk-container-id-2 input.sk-hidden--visually {\n",
              "  border: 0;\n",
              "  clip: rect(1px 1px 1px 1px);\n",
              "  clip: rect(1px, 1px, 1px, 1px);\n",
              "  height: 1px;\n",
              "  margin: -1px;\n",
              "  overflow: hidden;\n",
              "  padding: 0;\n",
              "  position: absolute;\n",
              "  width: 1px;\n",
              "}\n",
              "\n",
              "#sk-container-id-2 div.sk-dashed-wrapped {\n",
              "  border: 1px dashed var(--sklearn-color-line);\n",
              "  margin: 0 0.4em 0.5em 0.4em;\n",
              "  box-sizing: border-box;\n",
              "  padding-bottom: 0.4em;\n",
              "  background-color: var(--sklearn-color-background);\n",
              "}\n",
              "\n",
              "#sk-container-id-2 div.sk-container {\n",
              "  /* jupyter's `normalize.less` sets `[hidden] { display: none; }`\n",
              "     but bootstrap.min.css set `[hidden] { display: none !important; }`\n",
              "     so we also need the `!important` here to be able to override the\n",
              "     default hidden behavior on the sphinx rendered scikit-learn.org.\n",
              "     See: https://github.com/scikit-learn/scikit-learn/issues/21755 */\n",
              "  display: inline-block !important;\n",
              "  position: relative;\n",
              "}\n",
              "\n",
              "#sk-container-id-2 div.sk-text-repr-fallback {\n",
              "  display: none;\n",
              "}\n",
              "\n",
              "div.sk-parallel-item,\n",
              "div.sk-serial,\n",
              "div.sk-item {\n",
              "  /* draw centered vertical line to link estimators */\n",
              "  background-image: linear-gradient(var(--sklearn-color-text-on-default-background), var(--sklearn-color-text-on-default-background));\n",
              "  background-size: 2px 100%;\n",
              "  background-repeat: no-repeat;\n",
              "  background-position: center center;\n",
              "}\n",
              "\n",
              "/* Parallel-specific style estimator block */\n",
              "\n",
              "#sk-container-id-2 div.sk-parallel-item::after {\n",
              "  content: \"\";\n",
              "  width: 100%;\n",
              "  border-bottom: 2px solid var(--sklearn-color-text-on-default-background);\n",
              "  flex-grow: 1;\n",
              "}\n",
              "\n",
              "#sk-container-id-2 div.sk-parallel {\n",
              "  display: flex;\n",
              "  align-items: stretch;\n",
              "  justify-content: center;\n",
              "  background-color: var(--sklearn-color-background);\n",
              "  position: relative;\n",
              "}\n",
              "\n",
              "#sk-container-id-2 div.sk-parallel-item {\n",
              "  display: flex;\n",
              "  flex-direction: column;\n",
              "}\n",
              "\n",
              "#sk-container-id-2 div.sk-parallel-item:first-child::after {\n",
              "  align-self: flex-end;\n",
              "  width: 50%;\n",
              "}\n",
              "\n",
              "#sk-container-id-2 div.sk-parallel-item:last-child::after {\n",
              "  align-self: flex-start;\n",
              "  width: 50%;\n",
              "}\n",
              "\n",
              "#sk-container-id-2 div.sk-parallel-item:only-child::after {\n",
              "  width: 0;\n",
              "}\n",
              "\n",
              "/* Serial-specific style estimator block */\n",
              "\n",
              "#sk-container-id-2 div.sk-serial {\n",
              "  display: flex;\n",
              "  flex-direction: column;\n",
              "  align-items: center;\n",
              "  background-color: var(--sklearn-color-background);\n",
              "  padding-right: 1em;\n",
              "  padding-left: 1em;\n",
              "}\n",
              "\n",
              "\n",
              "/* Toggleable style: style used for estimator/Pipeline/ColumnTransformer box that is\n",
              "clickable and can be expanded/collapsed.\n",
              "- Pipeline and ColumnTransformer use this feature and define the default style\n",
              "- Estimators will overwrite some part of the style using the `sk-estimator` class\n",
              "*/\n",
              "\n",
              "/* Pipeline and ColumnTransformer style (default) */\n",
              "\n",
              "#sk-container-id-2 div.sk-toggleable {\n",
              "  /* Default theme specific background. It is overwritten whether we have a\n",
              "  specific estimator or a Pipeline/ColumnTransformer */\n",
              "  background-color: var(--sklearn-color-background);\n",
              "}\n",
              "\n",
              "/* Toggleable label */\n",
              "#sk-container-id-2 label.sk-toggleable__label {\n",
              "  cursor: pointer;\n",
              "  display: flex;\n",
              "  width: 100%;\n",
              "  margin-bottom: 0;\n",
              "  padding: 0.5em;\n",
              "  box-sizing: border-box;\n",
              "  text-align: center;\n",
              "  align-items: start;\n",
              "  justify-content: space-between;\n",
              "  gap: 0.5em;\n",
              "}\n",
              "\n",
              "#sk-container-id-2 label.sk-toggleable__label .caption {\n",
              "  font-size: 0.6rem;\n",
              "  font-weight: lighter;\n",
              "  color: var(--sklearn-color-text-muted);\n",
              "}\n",
              "\n",
              "#sk-container-id-2 label.sk-toggleable__label-arrow:before {\n",
              "  /* Arrow on the left of the label */\n",
              "  content: \"▸\";\n",
              "  float: left;\n",
              "  margin-right: 0.25em;\n",
              "  color: var(--sklearn-color-icon);\n",
              "}\n",
              "\n",
              "#sk-container-id-2 label.sk-toggleable__label-arrow:hover:before {\n",
              "  color: var(--sklearn-color-text);\n",
              "}\n",
              "\n",
              "/* Toggleable content - dropdown */\n",
              "\n",
              "#sk-container-id-2 div.sk-toggleable__content {\n",
              "  max-height: 0;\n",
              "  max-width: 0;\n",
              "  overflow: hidden;\n",
              "  text-align: left;\n",
              "  /* unfitted */\n",
              "  background-color: var(--sklearn-color-unfitted-level-0);\n",
              "}\n",
              "\n",
              "#sk-container-id-2 div.sk-toggleable__content.fitted {\n",
              "  /* fitted */\n",
              "  background-color: var(--sklearn-color-fitted-level-0);\n",
              "}\n",
              "\n",
              "#sk-container-id-2 div.sk-toggleable__content pre {\n",
              "  margin: 0.2em;\n",
              "  border-radius: 0.25em;\n",
              "  color: var(--sklearn-color-text);\n",
              "  /* unfitted */\n",
              "  background-color: var(--sklearn-color-unfitted-level-0);\n",
              "}\n",
              "\n",
              "#sk-container-id-2 div.sk-toggleable__content.fitted pre {\n",
              "  /* unfitted */\n",
              "  background-color: var(--sklearn-color-fitted-level-0);\n",
              "}\n",
              "\n",
              "#sk-container-id-2 input.sk-toggleable__control:checked~div.sk-toggleable__content {\n",
              "  /* Expand drop-down */\n",
              "  max-height: 200px;\n",
              "  max-width: 100%;\n",
              "  overflow: auto;\n",
              "}\n",
              "\n",
              "#sk-container-id-2 input.sk-toggleable__control:checked~label.sk-toggleable__label-arrow:before {\n",
              "  content: \"▾\";\n",
              "}\n",
              "\n",
              "/* Pipeline/ColumnTransformer-specific style */\n",
              "\n",
              "#sk-container-id-2 div.sk-label input.sk-toggleable__control:checked~label.sk-toggleable__label {\n",
              "  color: var(--sklearn-color-text);\n",
              "  background-color: var(--sklearn-color-unfitted-level-2);\n",
              "}\n",
              "\n",
              "#sk-container-id-2 div.sk-label.fitted input.sk-toggleable__control:checked~label.sk-toggleable__label {\n",
              "  background-color: var(--sklearn-color-fitted-level-2);\n",
              "}\n",
              "\n",
              "/* Estimator-specific style */\n",
              "\n",
              "/* Colorize estimator box */\n",
              "#sk-container-id-2 div.sk-estimator input.sk-toggleable__control:checked~label.sk-toggleable__label {\n",
              "  /* unfitted */\n",
              "  background-color: var(--sklearn-color-unfitted-level-2);\n",
              "}\n",
              "\n",
              "#sk-container-id-2 div.sk-estimator.fitted input.sk-toggleable__control:checked~label.sk-toggleable__label {\n",
              "  /* fitted */\n",
              "  background-color: var(--sklearn-color-fitted-level-2);\n",
              "}\n",
              "\n",
              "#sk-container-id-2 div.sk-label label.sk-toggleable__label,\n",
              "#sk-container-id-2 div.sk-label label {\n",
              "  /* The background is the default theme color */\n",
              "  color: var(--sklearn-color-text-on-default-background);\n",
              "}\n",
              "\n",
              "/* On hover, darken the color of the background */\n",
              "#sk-container-id-2 div.sk-label:hover label.sk-toggleable__label {\n",
              "  color: var(--sklearn-color-text);\n",
              "  background-color: var(--sklearn-color-unfitted-level-2);\n",
              "}\n",
              "\n",
              "/* Label box, darken color on hover, fitted */\n",
              "#sk-container-id-2 div.sk-label.fitted:hover label.sk-toggleable__label.fitted {\n",
              "  color: var(--sklearn-color-text);\n",
              "  background-color: var(--sklearn-color-fitted-level-2);\n",
              "}\n",
              "\n",
              "/* Estimator label */\n",
              "\n",
              "#sk-container-id-2 div.sk-label label {\n",
              "  font-family: monospace;\n",
              "  font-weight: bold;\n",
              "  display: inline-block;\n",
              "  line-height: 1.2em;\n",
              "}\n",
              "\n",
              "#sk-container-id-2 div.sk-label-container {\n",
              "  text-align: center;\n",
              "}\n",
              "\n",
              "/* Estimator-specific */\n",
              "#sk-container-id-2 div.sk-estimator {\n",
              "  font-family: monospace;\n",
              "  border: 1px dotted var(--sklearn-color-border-box);\n",
              "  border-radius: 0.25em;\n",
              "  box-sizing: border-box;\n",
              "  margin-bottom: 0.5em;\n",
              "  /* unfitted */\n",
              "  background-color: var(--sklearn-color-unfitted-level-0);\n",
              "}\n",
              "\n",
              "#sk-container-id-2 div.sk-estimator.fitted {\n",
              "  /* fitted */\n",
              "  background-color: var(--sklearn-color-fitted-level-0);\n",
              "}\n",
              "\n",
              "/* on hover */\n",
              "#sk-container-id-2 div.sk-estimator:hover {\n",
              "  /* unfitted */\n",
              "  background-color: var(--sklearn-color-unfitted-level-2);\n",
              "}\n",
              "\n",
              "#sk-container-id-2 div.sk-estimator.fitted:hover {\n",
              "  /* fitted */\n",
              "  background-color: var(--sklearn-color-fitted-level-2);\n",
              "}\n",
              "\n",
              "/* Specification for estimator info (e.g. \"i\" and \"?\") */\n",
              "\n",
              "/* Common style for \"i\" and \"?\" */\n",
              "\n",
              ".sk-estimator-doc-link,\n",
              "a:link.sk-estimator-doc-link,\n",
              "a:visited.sk-estimator-doc-link {\n",
              "  float: right;\n",
              "  font-size: smaller;\n",
              "  line-height: 1em;\n",
              "  font-family: monospace;\n",
              "  background-color: var(--sklearn-color-background);\n",
              "  border-radius: 1em;\n",
              "  height: 1em;\n",
              "  width: 1em;\n",
              "  text-decoration: none !important;\n",
              "  margin-left: 0.5em;\n",
              "  text-align: center;\n",
              "  /* unfitted */\n",
              "  border: var(--sklearn-color-unfitted-level-1) 1pt solid;\n",
              "  color: var(--sklearn-color-unfitted-level-1);\n",
              "}\n",
              "\n",
              ".sk-estimator-doc-link.fitted,\n",
              "a:link.sk-estimator-doc-link.fitted,\n",
              "a:visited.sk-estimator-doc-link.fitted {\n",
              "  /* fitted */\n",
              "  border: var(--sklearn-color-fitted-level-1) 1pt solid;\n",
              "  color: var(--sklearn-color-fitted-level-1);\n",
              "}\n",
              "\n",
              "/* On hover */\n",
              "div.sk-estimator:hover .sk-estimator-doc-link:hover,\n",
              ".sk-estimator-doc-link:hover,\n",
              "div.sk-label-container:hover .sk-estimator-doc-link:hover,\n",
              ".sk-estimator-doc-link:hover {\n",
              "  /* unfitted */\n",
              "  background-color: var(--sklearn-color-unfitted-level-3);\n",
              "  color: var(--sklearn-color-background);\n",
              "  text-decoration: none;\n",
              "}\n",
              "\n",
              "div.sk-estimator.fitted:hover .sk-estimator-doc-link.fitted:hover,\n",
              ".sk-estimator-doc-link.fitted:hover,\n",
              "div.sk-label-container:hover .sk-estimator-doc-link.fitted:hover,\n",
              ".sk-estimator-doc-link.fitted:hover {\n",
              "  /* fitted */\n",
              "  background-color: var(--sklearn-color-fitted-level-3);\n",
              "  color: var(--sklearn-color-background);\n",
              "  text-decoration: none;\n",
              "}\n",
              "\n",
              "/* Span, style for the box shown on hovering the info icon */\n",
              ".sk-estimator-doc-link span {\n",
              "  display: none;\n",
              "  z-index: 9999;\n",
              "  position: relative;\n",
              "  font-weight: normal;\n",
              "  right: .2ex;\n",
              "  padding: .5ex;\n",
              "  margin: .5ex;\n",
              "  width: min-content;\n",
              "  min-width: 20ex;\n",
              "  max-width: 50ex;\n",
              "  color: var(--sklearn-color-text);\n",
              "  box-shadow: 2pt 2pt 4pt #999;\n",
              "  /* unfitted */\n",
              "  background: var(--sklearn-color-unfitted-level-0);\n",
              "  border: .5pt solid var(--sklearn-color-unfitted-level-3);\n",
              "}\n",
              "\n",
              ".sk-estimator-doc-link.fitted span {\n",
              "  /* fitted */\n",
              "  background: var(--sklearn-color-fitted-level-0);\n",
              "  border: var(--sklearn-color-fitted-level-3);\n",
              "}\n",
              "\n",
              ".sk-estimator-doc-link:hover span {\n",
              "  display: block;\n",
              "}\n",
              "\n",
              "/* \"?\"-specific style due to the `<a>` HTML tag */\n",
              "\n",
              "#sk-container-id-2 a.estimator_doc_link {\n",
              "  float: right;\n",
              "  font-size: 1rem;\n",
              "  line-height: 1em;\n",
              "  font-family: monospace;\n",
              "  background-color: var(--sklearn-color-background);\n",
              "  border-radius: 1rem;\n",
              "  height: 1rem;\n",
              "  width: 1rem;\n",
              "  text-decoration: none;\n",
              "  /* unfitted */\n",
              "  color: var(--sklearn-color-unfitted-level-1);\n",
              "  border: var(--sklearn-color-unfitted-level-1) 1pt solid;\n",
              "}\n",
              "\n",
              "#sk-container-id-2 a.estimator_doc_link.fitted {\n",
              "  /* fitted */\n",
              "  border: var(--sklearn-color-fitted-level-1) 1pt solid;\n",
              "  color: var(--sklearn-color-fitted-level-1);\n",
              "}\n",
              "\n",
              "/* On hover */\n",
              "#sk-container-id-2 a.estimator_doc_link:hover {\n",
              "  /* unfitted */\n",
              "  background-color: var(--sklearn-color-unfitted-level-3);\n",
              "  color: var(--sklearn-color-background);\n",
              "  text-decoration: none;\n",
              "}\n",
              "\n",
              "#sk-container-id-2 a.estimator_doc_link.fitted:hover {\n",
              "  /* fitted */\n",
              "  background-color: var(--sklearn-color-fitted-level-3);\n",
              "}\n",
              "</style><div id=\"sk-container-id-2\" class=\"sk-top-container\"><div class=\"sk-text-repr-fallback\"><pre>GradientBoostingRegressor(max_depth=5, min_samples_split=5, n_estimators=200,\n",
              "                          random_state=42)</pre><b>In a Jupyter environment, please rerun this cell to show the HTML representation or trust the notebook. <br />On GitHub, the HTML representation is unable to render, please try loading this page with nbviewer.org.</b></div><div class=\"sk-container\" hidden><div class=\"sk-item\"><div class=\"sk-estimator fitted sk-toggleable\"><input class=\"sk-toggleable__control sk-hidden--visually\" id=\"sk-estimator-id-2\" type=\"checkbox\" checked><label for=\"sk-estimator-id-2\" class=\"sk-toggleable__label fitted sk-toggleable__label-arrow\"><div><div>GradientBoostingRegressor</div></div><div><a class=\"sk-estimator-doc-link fitted\" rel=\"noreferrer\" target=\"_blank\" href=\"https://scikit-learn.org/1.6/modules/generated/sklearn.ensemble.GradientBoostingRegressor.html\">?<span>Documentation for GradientBoostingRegressor</span></a><span class=\"sk-estimator-doc-link fitted\">i<span>Fitted</span></span></div></label><div class=\"sk-toggleable__content fitted\"><pre>GradientBoostingRegressor(max_depth=5, min_samples_split=5, n_estimators=200,\n",
              "                          random_state=42)</pre></div> </div></div></div></div>"
            ]
          },
          "metadata": {},
          "execution_count": 176
        }
      ]
    },
    {
      "cell_type": "code",
      "source": [
        "y_pred = best_model.predict(X_test)\n",
        "\n",
        "from sklearn.metrics import r2_score, mean_squared_error, mean_absolute_error\n",
        "import numpy as np\n",
        "\n",
        "print(\"Test R²:\", r2_score(y_test, y_pred))\n",
        "print(\"Test RMSE:\", np.sqrt(mean_squared_error(y_test, y_pred)))\n",
        "print(\"Test MAE:\", mean_absolute_error(y_test, y_pred))\n"
      ],
      "metadata": {
        "colab": {
          "base_uri": "https://localhost:8080/"
        },
        "id": "joaTMPYmWSB-",
        "outputId": "ca1cccab-4c41-4691-c63b-4555e3347fef"
      },
      "execution_count": 177,
      "outputs": [
        {
          "output_type": "stream",
          "name": "stdout",
          "text": [
            "Test R²: 0.9806972842503944\n",
            "Test RMSE: 141.69659744711555\n",
            "Test MAE: 102.4380099289514\n"
          ]
        }
      ]
    },
    {
      "cell_type": "code",
      "execution_count": 178,
      "metadata": {
        "colab": {
          "base_uri": "https://localhost:8080/",
          "height": 607
        },
        "id": "riSPbsuQ627w",
        "outputId": "7fd4f4fd-a636-4b42-fa06-29d9df007a1b"
      },
      "outputs": [
        {
          "output_type": "display_data",
          "data": {
            "text/plain": [
              "<Figure size 1000x600 with 1 Axes>"
            ],
            "image/png": "[encoded data removed]"
          },
          "metadata": {}
        }
      ],
      "source": [
        "import matplotlib.pyplot as plt\n",
        "\n",
        "importances = final_model.feature_importances_\n",
        "features = X_train.columns\n",
        "sorted_idx = np.argsort(importances)[::-1]\n",
        "\n",
        "plt.figure(figsize=(10, 6))\n",
        "plt.bar(range(10), importances[sorted_idx][:10], align=\"center\")\n",
        "plt.xticks(range(10), [features[i] for i in sorted_idx[:10]], rotation=45)\n",
        "plt.title(\"En Önemli 10 Özellik\")\n",
        "plt.tight_layout()\n",
        "plt.show()\n"
      ]
    },
    {
      "cell_type": "code",
      "execution_count": null,
      "metadata": {
        "id": "YbUwyYCR9QeF"
      },
      "outputs": [],
      "source": [
        "importances = final_model.feature_importances_  # sayısal önem değerleri\n",
        "features = X_train.columns  # sütun isimleri\n"
      ]
    }
  ],
  "metadata": {
    "colab": {
      "provenance": [],
      "include_colab_link": true
    },
    "kernelspec": {
      "display_name": "Python 3",
      "name": "python3"
    },
    "language_info": {
      "name": "python"
    }
  },
  "nbformat": 4,
  "nbformat_minor": 0
}