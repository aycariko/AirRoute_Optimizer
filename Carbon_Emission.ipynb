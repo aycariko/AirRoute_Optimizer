{
  "nbformat": 4,
  "nbformat_minor": 0,
  "metadata": {
    "colab": {
      "provenance": [],
      "toc_visible": true,
      "include_colab_link": true
    },
    "kernelspec": {
      "name": "python3",
      "display_name": "Python 3"
    },
    "language_info": {
      "name": "python"
    }
  },
  "cells": [
    {
      "cell_type": "markdown",
      "metadata": {
        "id": "view-in-github",
        "colab_type": "text"
      },
      "source": [
        "<a href=\"https://colab.research.google.com/github/aycariko/AirRoute_Optimizer/blob/main/Carbon_Emission.ipynb\" target=\"_parent\"><img src=\"https://colab.research.google.com/assets/colab-badge.svg\" alt=\"Open In Colab\"/></a>"
      ]
    },
    {
      "cell_type": "code",
      "execution_count": null,
      "metadata": {
        "colab": {
          "base_uri": "https://localhost:8080/"
        },
        "id": "xxiX3SfKudA7",
        "outputId": "f123bee9-15b1-467c-f96b-29725c4ea427",
        "collapsed": true
      },
      "outputs": [
        {
          "output_type": "stream",
          "name": "stdout",
          "text": [
            "      Body Type     Sex         Diet How Often Shower Heating Energy Source  \\\n",
            "0    overweight  female  pescatarian            daily                  coal   \n",
            "1         obese  female   vegetarian  less frequently           natural gas   \n",
            "2    overweight    male     omnivore  more frequently                  wood   \n",
            "3    overweight    male     omnivore      twice a day                  wood   \n",
            "4         obese  female   vegetarian            daily                  coal   \n",
            "5    overweight    male   vegetarian  less frequently                  wood   \n",
            "6   underweight  female        vegan  less frequently                  wood   \n",
            "7   underweight  female        vegan  more frequently                  coal   \n",
            "8    overweight    male     omnivore            daily                  wood   \n",
            "9   underweight  female  pescatarian            daily                  wood   \n",
            "10       normal  female   vegetarian  more frequently                  wood   \n",
            "11        obese    male   vegetarian  more frequently                  coal   \n",
            "12  underweight  female     omnivore      twice a day                  coal   \n",
            "13  underweight  female        vegan  less frequently           electricity   \n",
            "14        obese    male  pescatarian  less frequently           natural gas   \n",
            "15   overweight  female   vegetarian  less frequently           electricity   \n",
            "16       normal    male  pescatarian  more frequently           electricity   \n",
            "17   overweight  female  pescatarian            daily                  wood   \n",
            "18  underweight    male        vegan  more frequently           electricity   \n",
            "19       normal  female     omnivore  more frequently                  wood   \n",
            "20       normal    male        vegan      twice a day           electricity   \n",
            "21        obese  female  pescatarian  less frequently                  wood   \n",
            "22   overweight    male     omnivore      twice a day                  wood   \n",
            "23        obese    male   vegetarian            daily                  coal   \n",
            "24   overweight    male        vegan            daily                  coal   \n",
            "25        obese  female  pescatarian  less frequently           electricity   \n",
            "26  underweight  female        vegan            daily           electricity   \n",
            "27        obese    male   vegetarian  less frequently           electricity   \n",
            "28        obese    male  pescatarian            daily                  wood   \n",
            "29  underweight  female     omnivore  less frequently           electricity   \n",
            "30        obese  female        vegan  more frequently                  wood   \n",
            "31  underweight  female   vegetarian            daily                  coal   \n",
            "32       normal  female  pescatarian            daily           natural gas   \n",
            "33       normal  female  pescatarian            daily                  wood   \n",
            "34       normal    male   vegetarian      twice a day                  coal   \n",
            "35  underweight  female        vegan  less frequently                  coal   \n",
            "36        obese    male   vegetarian            daily           electricity   \n",
            "37  underweight    male        vegan      twice a day           natural gas   \n",
            "38  underweight    male     omnivore  less frequently                  wood   \n",
            "39  underweight  female  pescatarian  less frequently                  coal   \n",
            "40   overweight  female     omnivore      twice a day           electricity   \n",
            "41       normal  female   vegetarian  more frequently                  coal   \n",
            "42  underweight  female     omnivore            daily           electricity   \n",
            "43       normal  female  pescatarian            daily                  coal   \n",
            "44   overweight    male     omnivore            daily                  wood   \n",
            "45       normal    male   vegetarian  more frequently                  wood   \n",
            "46  underweight    male  pescatarian  less frequently                  wood   \n",
            "47  underweight    male  pescatarian      twice a day           electricity   \n",
            "48   overweight  female   vegetarian  more frequently           natural gas   \n",
            "49   overweight  female        vegan            daily                  wood   \n",
            "\n",
            "       Transport Vehicle Type Social Activity  Monthly Grocery Bill  \\\n",
            "0         public          NaN           often                   230   \n",
            "1   walk/bicycle          NaN           often                   114   \n",
            "2        private       petrol           never                   138   \n",
            "3   walk/bicycle          NaN       sometimes                   157   \n",
            "4        private       diesel           often                   266   \n",
            "5         public          NaN       sometimes                   144   \n",
            "6        private       hybrid           never                    56   \n",
            "7   walk/bicycle          NaN       sometimes                    59   \n",
            "8         public          NaN           never                   200   \n",
            "9         public          NaN           often                   135   \n",
            "10        public          NaN           never                   146   \n",
            "11  walk/bicycle          NaN           never                   111   \n",
            "12  walk/bicycle          NaN           often                   114   \n",
            "13       private          lpg       sometimes                   111   \n",
            "14        public          NaN           often                   123   \n",
            "15        public          NaN           never                   225   \n",
            "16  walk/bicycle          NaN           often                   219   \n",
            "17        public          NaN           often                   104   \n",
            "18       private       petrol           often                   126   \n",
            "19  walk/bicycle          NaN           often                   288   \n",
            "20       private     electric           often                   282   \n",
            "21        public          NaN           never                    69   \n",
            "22  walk/bicycle          NaN       sometimes                   110   \n",
            "23       private       diesel           often                   165   \n",
            "24       private       diesel       sometimes                    62   \n",
            "25  walk/bicycle          NaN       sometimes                    94   \n",
            "26        public          NaN           often                   259   \n",
            "27        public          NaN       sometimes                    67   \n",
            "28  walk/bicycle          NaN           never                   130   \n",
            "29        public          NaN           never                   258   \n",
            "30        public          NaN       sometimes                   189   \n",
            "31  walk/bicycle          NaN       sometimes                   262   \n",
            "32  walk/bicycle          NaN           never                   157   \n",
            "33       private          lpg           often                   280   \n",
            "34  walk/bicycle          NaN       sometimes                   121   \n",
            "35  walk/bicycle          NaN           often                   174   \n",
            "36  walk/bicycle          NaN       sometimes                   173   \n",
            "37  walk/bicycle          NaN       sometimes                   199   \n",
            "38  walk/bicycle          NaN           never                    94   \n",
            "39  walk/bicycle          NaN           never                    64   \n",
            "40        public          NaN           never                   100   \n",
            "41        public          NaN           often                   240   \n",
            "42        public          NaN       sometimes                   245   \n",
            "43  walk/bicycle          NaN       sometimes                   270   \n",
            "44       private     electric           often                   294   \n",
            "45        public          NaN           never                    87   \n",
            "46       private     electric           never                   209   \n",
            "47       private       diesel           never                   124   \n",
            "48        public          NaN       sometimes                   276   \n",
            "49  walk/bicycle          NaN           never                    90   \n",
            "\n",
            "   Frequency of Traveling by Air  Vehicle Monthly Distance Km Waste Bag Size  \\\n",
            "0                     frequently                          210          large   \n",
            "1                         rarely                            9    extra large   \n",
            "2                          never                         2472          small   \n",
            "3                         rarely                           74         medium   \n",
            "4                very frequently                         8457          large   \n",
            "5                     frequently                          658          large   \n",
            "6                         rarely                         5363         medium   \n",
            "7                very frequently                           54    extra large   \n",
            "8                     frequently                         1376         medium   \n",
            "9                         rarely                          440    extra large   \n",
            "10                         never                         1561    extra large   \n",
            "11               very frequently                           69         medium   \n",
            "12                        rarely                           92          large   \n",
            "13                        rarely                         2893          large   \n",
            "14                        rarely                         1989          small   \n",
            "15               very frequently                          692          small   \n",
            "16                    frequently                            7    extra large   \n",
            "17                        rarely                          948          large   \n",
            "18               very frequently                         7622         medium   \n",
            "19                         never                           51          small   \n",
            "20                        rarely                         2237          large   \n",
            "21                        rarely                         1804          large   \n",
            "22                         never                           85          small   \n",
            "23                    frequently                          472          small   \n",
            "24               very frequently                         5737         medium   \n",
            "25                        rarely                           88         medium   \n",
            "26                    frequently                          558          large   \n",
            "27                        rarely                          752          large   \n",
            "28                        rarely                           71          small   \n",
            "29                    frequently                         1028          small   \n",
            "30                    frequently                         1527         medium   \n",
            "31                    frequently                           88          large   \n",
            "32                    frequently                           73         medium   \n",
            "33               very frequently                         8320          small   \n",
            "34                         never                           72         medium   \n",
            "35               very frequently                            9          large   \n",
            "36                    frequently                           60         medium   \n",
            "37                    frequently                           13         medium   \n",
            "38                        rarely                           32          small   \n",
            "39                    frequently                           49          small   \n",
            "40               very frequently                         1351    extra large   \n",
            "41               very frequently                         1726         medium   \n",
            "42                         never                         1021         medium   \n",
            "43                        rarely                           62          small   \n",
            "44               very frequently                         9488          small   \n",
            "45               very frequently                         1037          large   \n",
            "46                         never                         9555          large   \n",
            "47                         never                         9031    extra large   \n",
            "48                    frequently                         1461          large   \n",
            "49               very frequently                           39         medium   \n",
            "\n",
            "    Waste Bag Weekly Count  How Long TV PC Daily Hour  \\\n",
            "0                        4                          7   \n",
            "1                        3                          9   \n",
            "2                        1                         14   \n",
            "3                        3                         20   \n",
            "4                        1                          3   \n",
            "5                        1                         22   \n",
            "6                        4                          9   \n",
            "7                        3                          5   \n",
            "8                        3                          3   \n",
            "9                        1                          8   \n",
            "10                       4                         12   \n",
            "11                       5                          9   \n",
            "12                       3                         18   \n",
            "13                       6                         13   \n",
            "14                       6                         13   \n",
            "15                       6                          9   \n",
            "16                       4                         23   \n",
            "17                       6                          1   \n",
            "18                       2                          6   \n",
            "19                       4                         15   \n",
            "20                       6                          0   \n",
            "21                       1                          6   \n",
            "22                       3                         14   \n",
            "23                       4                         17   \n",
            "24                       1                          5   \n",
            "25                       6                         17   \n",
            "26                       4                          4   \n",
            "27                       3                         14   \n",
            "28                       2                         10   \n",
            "29                       2                         13   \n",
            "30                       4                         23   \n",
            "31                       5                         24   \n",
            "32                       4                          1   \n",
            "33                       5                          9   \n",
            "34                       6                         11   \n",
            "35                       2                          1   \n",
            "36                       2                         16   \n",
            "37                       5                         17   \n",
            "38                       6                         15   \n",
            "39                       1                         19   \n",
            "40                       1                         20   \n",
            "41                       2                         15   \n",
            "42                       7                         14   \n",
            "43                       5                         22   \n",
            "44                       5                         16   \n",
            "45                       4                          0   \n",
            "46                       2                         13   \n",
            "47                       5                          1   \n",
            "48                       7                         19   \n",
            "49                       3                         22   \n",
            "\n",
            "    How Many New Clothes Monthly  How Long Internet Daily Hour  \\\n",
            "0                             26                             1   \n",
            "1                             38                             5   \n",
            "2                             47                             6   \n",
            "3                              5                             7   \n",
            "4                              5                             6   \n",
            "5                             18                             9   \n",
            "6                             11                            19   \n",
            "7                             39                            15   \n",
            "8                             31                            15   \n",
            "9                             23                            18   \n",
            "10                            27                            21   \n",
            "11                             4                             4   \n",
            "12                            27                             4   \n",
            "13                            16                            10   \n",
            "14                            23                             8   \n",
            "15                            24                            15   \n",
            "16                            42                            14   \n",
            "17                             6                            22   \n",
            "18                            37                             9   \n",
            "19                            22                             6   \n",
            "20                             8                             5   \n",
            "21                             3                             7   \n",
            "22                             4                             3   \n",
            "23                            24                            20   \n",
            "24                            20                            20   \n",
            "25                             0                             3   \n",
            "26                            50                            23   \n",
            "27                            37                            14   \n",
            "28                            15                            10   \n",
            "29                            44                             4   \n",
            "30                            34                            10   \n",
            "31                             8                            15   \n",
            "32                            42                            22   \n",
            "33                             0                             4   \n",
            "34                             4                            10   \n",
            "35                            40                            15   \n",
            "36                            14                            20   \n",
            "37                             6                            15   \n",
            "38                             5                            17   \n",
            "39                            47                            16   \n",
            "40                            24                             5   \n",
            "41                            19                             5   \n",
            "42                            48                            10   \n",
            "43                            21                            11   \n",
            "44                            20                            18   \n",
            "45                            11                            24   \n",
            "46                            43                             3   \n",
            "47                            11                             5   \n",
            "48                             5                            12   \n",
            "49                             7                             9   \n",
            "\n",
            "   Energy efficiency                               Recycling  \\\n",
            "0                 No                               ['Metal']   \n",
            "1                 No                               ['Metal']   \n",
            "2          Sometimes                               ['Metal']   \n",
            "3          Sometimes  ['Paper', 'Plastic', 'Glass', 'Metal']   \n",
            "4                Yes                               ['Paper']   \n",
            "5          Sometimes             ['Paper', 'Glass', 'Metal']   \n",
            "6          Sometimes                                      []   \n",
            "7                 No           ['Paper', 'Plastic', 'Glass']   \n",
            "8                Yes                               ['Glass']   \n",
            "9          Sometimes                               ['Glass']   \n",
            "10                No                    ['Paper', 'Plastic']   \n",
            "11         Sometimes                                      []   \n",
            "12               Yes                             ['Plastic']   \n",
            "13         Sometimes           ['Plastic', 'Glass', 'Metal']   \n",
            "14                No           ['Paper', 'Plastic', 'Metal']   \n",
            "15                No  ['Paper', 'Plastic', 'Glass', 'Metal']   \n",
            "16         Sometimes                                      []   \n",
            "17               Yes                               ['Paper']   \n",
            "18         Sometimes                                      []   \n",
            "19                No             ['Paper', 'Glass', 'Metal']   \n",
            "20                No           ['Plastic', 'Glass', 'Metal']   \n",
            "21                No                               ['Metal']   \n",
            "22         Sometimes  ['Paper', 'Plastic', 'Glass', 'Metal']   \n",
            "23               Yes                      ['Paper', 'Glass']   \n",
            "24               Yes                      ['Paper', 'Metal']   \n",
            "25         Sometimes           ['Paper', 'Plastic', 'Metal']   \n",
            "26         Sometimes                               ['Metal']   \n",
            "27         Sometimes                             ['Plastic']   \n",
            "28                No                               ['Glass']   \n",
            "29               Yes                      ['Glass', 'Metal']   \n",
            "30               Yes                      ['Glass', 'Metal']   \n",
            "31         Sometimes                                      []   \n",
            "32                No             ['Paper', 'Glass', 'Metal']   \n",
            "33         Sometimes                      ['Paper', 'Metal']   \n",
            "34               Yes                      ['Glass', 'Metal']   \n",
            "35               Yes           ['Paper', 'Plastic', 'Glass']   \n",
            "36         Sometimes                    ['Plastic', 'Glass']   \n",
            "37                No             ['Paper', 'Glass', 'Metal']   \n",
            "38         Sometimes                      ['Glass', 'Metal']   \n",
            "39               Yes                    ['Plastic', 'Glass']   \n",
            "40               Yes           ['Paper', 'Plastic', 'Glass']   \n",
            "41                No                      ['Glass', 'Metal']   \n",
            "42                No             ['Paper', 'Glass', 'Metal']   \n",
            "43         Sometimes                             ['Plastic']   \n",
            "44               Yes                               ['Glass']   \n",
            "45                No                    ['Paper', 'Plastic']   \n",
            "46               Yes             ['Paper', 'Glass', 'Metal']   \n",
            "47               Yes                    ['Plastic', 'Glass']   \n",
            "48         Sometimes                               ['Metal']   \n",
            "49               Yes           ['Paper', 'Plastic', 'Metal']   \n",
            "\n",
            "                                         Cooking_With  CarbonEmission  \n",
            "0                                   ['Stove', 'Oven']            2238  \n",
            "1                              ['Stove', 'Microwave']            1892  \n",
            "2                               ['Oven', 'Microwave']            2595  \n",
            "3                  ['Microwave', 'Grill', 'Airfryer']            1074  \n",
            "4                                            ['Oven']            4743  \n",
            "5                      ['Stove', 'Oven', 'Microwave']            1647  \n",
            "6                               ['Grill', 'Airfryer']            1832  \n",
            "7                              ['Stove', 'Microwave']            2322  \n",
            "8                  ['Microwave', 'Grill', 'Airfryer']            2494  \n",
            "9                  ['Microwave', 'Grill', 'Airfryer']            1178  \n",
            "10                             ['Stove', 'Microwave']            1427  \n",
            "11                     ['Stove', 'Oven', 'Microwave']            3226  \n",
            "12                                          ['Stove']            1593  \n",
            "13  ['Stove', 'Oven', 'Microwave', 'Grill', 'Airfr...            1732  \n",
            "14                                  ['Stove', 'Oven']            1743  \n",
            "15                                  ['Stove', 'Oven']            2101  \n",
            "16         ['Oven', 'Microwave', 'Grill', 'Airfryer']            2609  \n",
            "17                     ['Stove', 'Grill', 'Airfryer']            1565  \n",
            "18                                          ['Stove']            5272  \n",
            "19                                  ['Stove', 'Oven']            1220  \n",
            "20                      ['Oven', 'Grill', 'Airfryer']            1300  \n",
            "21                     ['Stove', 'Oven', 'Microwave']            1024  \n",
            "22  ['Stove', 'Oven', 'Microwave', 'Grill', 'Airfr...             706  \n",
            "23                                      ['Microwave']            2582  \n",
            "24                              ['Grill', 'Airfryer']            4284  \n",
            "25  ['Stove', 'Oven', 'Microwave', 'Grill', 'Airfr...             807  \n",
            "26                      ['Oven', 'Grill', 'Airfryer']            1991  \n",
            "27                                          ['Stove']            1817  \n",
            "28                      ['Oven', 'Grill', 'Airfryer']            1490  \n",
            "29         ['Oven', 'Microwave', 'Grill', 'Airfryer']            1561  \n",
            "30                 ['Microwave', 'Grill', 'Airfryer']            2202  \n",
            "31                 ['Microwave', 'Grill', 'Airfryer']            2024  \n",
            "32  ['Stove', 'Oven', 'Microwave', 'Grill', 'Airfr...            1659  \n",
            "33             ['Stove', 'Oven', 'Grill', 'Airfryer']            3911  \n",
            "34        ['Stove', 'Microwave', 'Grill', 'Airfryer']            1204  \n",
            "35                             ['Stove', 'Microwave']            2431  \n",
            "36                                                 []            1640  \n",
            "37  ['Stove', 'Oven', 'Microwave', 'Grill', 'Airfr...            1648  \n",
            "38                 ['Microwave', 'Grill', 'Airfryer']            1002  \n",
            "39  ['Stove', 'Oven', 'Microwave', 'Grill', 'Airfr...            1771  \n",
            "40        ['Stove', 'Microwave', 'Grill', 'Airfryer']            2028  \n",
            "41                                  ['Stove', 'Oven']            2540  \n",
            "42             ['Stove', 'Oven', 'Grill', 'Airfryer']            1386  \n",
            "43  ['Stove', 'Oven', 'Microwave', 'Grill', 'Airfr...            1679  \n",
            "44                                                 []            3141  \n",
            "45  ['Stove', 'Oven', 'Microwave', 'Grill', 'Airfr...            2627  \n",
            "46         ['Oven', 'Microwave', 'Grill', 'Airfryer']            1188  \n",
            "47                     ['Stove', 'Grill', 'Airfryer']            3174  \n",
            "48  ['Stove', 'Oven', 'Microwave', 'Grill', 'Airfr...            2327  \n",
            "49                     ['Stove', 'Oven', 'Microwave']            1822  \n",
            "<class 'pandas.core.frame.DataFrame'>\n",
            "RangeIndex: 10000 entries, 0 to 9999\n",
            "Data columns (total 20 columns):\n",
            " #   Column                         Non-Null Count  Dtype \n",
            "---  ------                         --------------  ----- \n",
            " 0   Body Type                      10000 non-null  object\n",
            " 1   Sex                            10000 non-null  object\n",
            " 2   Diet                           10000 non-null  object\n",
            " 3   How Often Shower               10000 non-null  object\n",
            " 4   Heating Energy Source          10000 non-null  object\n",
            " 5   Transport                      10000 non-null  object\n",
            " 6   Vehicle Type                   3279 non-null   object\n",
            " 7   Social Activity                10000 non-null  object\n",
            " 8   Monthly Grocery Bill           10000 non-null  int64 \n",
            " 9   Frequency of Traveling by Air  10000 non-null  object\n",
            " 10  Vehicle Monthly Distance Km    10000 non-null  int64 \n",
            " 11  Waste Bag Size                 10000 non-null  object\n",
            " 12  Waste Bag Weekly Count         10000 non-null  int64 \n",
            " 13  How Long TV PC Daily Hour      10000 non-null  int64 \n",
            " 14  How Many New Clothes Monthly   10000 non-null  int64 \n",
            " 15  How Long Internet Daily Hour   10000 non-null  int64 \n",
            " 16  Energy efficiency              10000 non-null  object\n",
            " 17  Recycling                      10000 non-null  object\n",
            " 18  Cooking_With                   10000 non-null  object\n",
            " 19  CarbonEmission                 10000 non-null  int64 \n",
            "dtypes: int64(7), object(13)\n",
            "memory usage: 1.5+ MB\n",
            "Satır sayısı: 10000\n",
            "Sütun sayısı: 20\n",
            "Nümerik değişkenler: ['Monthly Grocery Bill', 'Vehicle Monthly Distance Km', 'Waste Bag Weekly Count', 'How Long TV PC Daily Hour', 'How Many New Clothes Monthly', 'How Long Internet Daily Hour', 'CarbonEmission']\n",
            "Kategorik değişkenler: ['Body Type', 'Sex', 'Diet', 'How Often Shower', 'Heating Energy Source', 'Transport', 'Vehicle Type', 'Social Activity', 'Frequency of Traveling by Air', 'Waste Bag Size', 'Energy efficiency', 'Recycling', 'Cooking_With']\n"
          ]
        }
      ],
      "source": [
        "\n",
        "import numpy as np\n",
        "import pandas as pd\n",
        "from sklearn.model_selection import train_test_split\n",
        "\n",
        "\n",
        "df = pd.read_csv('Carbon_Emission.csv')\n",
        "print(df.head(50))\n",
        "\n",
        "\n",
        "df.info()\n",
        "\n",
        "\n",
        "\n",
        "df = pd.read_csv(\"Carbon_Emission.csv\")\n",
        "print(\"Satır sayısı:\", df.shape[0])\n",
        "print(\"Sütun sayısı:\", df.shape[1])\n",
        "\n",
        "# Nümerik sütunlar\n",
        "numerical_columns = df.select_dtypes(include=['int64', 'float64']).columns.tolist()\n",
        "print(\"Nümerik değişkenler:\", numerical_columns)\n",
        "\n",
        "# Kategorik sütunlar\n",
        "categorical_columns = df.select_dtypes(include=['object']).columns.tolist()\n",
        "print(\"Kategorik değişkenler:\", categorical_columns)"
      ]
    },
    {
      "cell_type": "code",
      "source": [
        "target_variable = \"CarbonEmission\"\n"
      ],
      "metadata": {
        "id": "rW4g-Y5O0ZP8"
      },
      "execution_count": null,
      "outputs": []
    },
    {
      "cell_type": "code",
      "source": [
        "import matplotlib.pyplot as plt\n",
        "import seaborn as sns\n",
        "\n",
        "plt.figure(figsize=(8, 5))\n",
        "sns.histplot(df[\"CarbonEmission\"], kde=True, bins=30)\n",
        "plt.title(\"Carbon Emission Dağılımı\")\n",
        "plt.xlabel(\"CarbonEmission\")\n",
        "plt.ylabel(\"Frekans\")\n",
        "plt.show()\n"
      ],
      "metadata": {
        "colab": {
          "base_uri": "https://localhost:8080/",
          "height": 464
        },
        "collapsed": true,
        "id": "i027KgN80g40",
        "outputId": "b38c8561-4b1e-40c0-b9aa-165aec89ddc0"
      },
      "execution_count": null,
      "outputs": [
        {
          "output_type": "display_data",
          "data": {
            "text/plain": [
              "<Figure size 800x500 with 1 Axes>"
            ],
            "image/png": "[encoded data removed]"
          },
          "metadata": {}
        }
      ]
    },
    {
      "cell_type": "code",
      "source": [
        "df['EmissionLevel'] = pd.qcut(df['CarbonEmission'], q=3, labels=[\"Low\", \"Medium\", \"High\"])\n",
        "print(df['EmissionLevel'].value_counts())\n"
      ],
      "metadata": {
        "colab": {
          "base_uri": "https://localhost:8080/"
        },
        "id": "SCKZA8qC0uvy",
        "outputId": "d4f0191d-30f2-412e-befb-8d73c59a6311"
      },
      "execution_count": null,
      "outputs": [
        {
          "output_type": "stream",
          "name": "stdout",
          "text": [
            "EmissionLevel\n",
            "Low       3339\n",
            "High      3334\n",
            "Medium    3327\n",
            "Name: count, dtype: int64\n"
          ]
        }
      ]
    },
    {
      "cell_type": "code",
      "source": [
        "missing_summary = df.isnull().sum()\n",
        "print(\"Eksik değer olan sütunlar:\\n\", missing_summary[missing_summary > 0])\n"
      ],
      "metadata": {
        "colab": {
          "base_uri": "https://localhost:8080/"
        },
        "id": "IfYaT5g003Jh",
        "outputId": "42433fd2-6ca7-4641-ecee-2b3c06fc6ba1"
      },
      "execution_count": null,
      "outputs": [
        {
          "output_type": "stream",
          "name": "stdout",
          "text": [
            "Eksik değer olan sütunlar:\n",
            " Vehicle Type    6721\n",
            "dtype: int64\n"
          ]
        }
      ]
    },
    {
      "cell_type": "code",
      "source": [
        "missing_percentage = df.isnull().mean() * 100\n",
        "print(\"Eksik veri oranları (%):\\n\", missing_percentage[missing_percentage > 0])\n"
      ],
      "metadata": {
        "colab": {
          "base_uri": "https://localhost:8080/"
        },
        "id": "5hd8E1970_l-",
        "outputId": "2986db13-f0ef-44ac-f45e-d77b6004248c"
      },
      "execution_count": null,
      "outputs": [
        {
          "output_type": "stream",
          "name": "stdout",
          "text": [
            "Eksik veri oranları (%):\n",
            " Vehicle Type    67.21\n",
            "dtype: float64\n"
          ]
        }
      ]
    },
    {
      "cell_type": "code",
      "source": [
        "# Her sütundaki eksik değer sayısı\n",
        "print(df.isnull().sum())\n",
        "\n",
        "# Eksik değer oranı (%)\n",
        "print((df.isnull().mean() * 100).round(2))\n"
      ],
      "metadata": {
        "colab": {
          "base_uri": "https://localhost:8080/"
        },
        "collapsed": true,
        "id": "vmeFEnjZ1MJq",
        "outputId": "2ad4bc34-1ece-4ded-d5b6-fd596398c509"
      },
      "execution_count": null,
      "outputs": [
        {
          "output_type": "stream",
          "name": "stdout",
          "text": [
            "Body Type                        0\n",
            "Sex                              0\n",
            "Diet                             0\n",
            "How Often Shower                 0\n",
            "Heating Energy Source            0\n",
            "Transport                        0\n",
            "Social Activity                  0\n",
            "Monthly Grocery Bill             0\n",
            "Frequency of Traveling by Air    0\n",
            "Vehicle Monthly Distance Km      0\n",
            "Waste Bag Size                   0\n",
            "Waste Bag Weekly Count           0\n",
            "How Long TV PC Daily Hour        0\n",
            "How Many New Clothes Monthly     0\n",
            "How Long Internet Daily Hour     0\n",
            "Energy efficiency                0\n",
            "Recycling                        0\n",
            "Cooking_With                     0\n",
            "CarbonEmission                   0\n",
            "dtype: int64\n",
            "Body Type                        0.0\n",
            "Sex                              0.0\n",
            "Diet                             0.0\n",
            "How Often Shower                 0.0\n",
            "Heating Energy Source            0.0\n",
            "Transport                        0.0\n",
            "Social Activity                  0.0\n",
            "Monthly Grocery Bill             0.0\n",
            "Frequency of Traveling by Air    0.0\n",
            "Vehicle Monthly Distance Km      0.0\n",
            "Waste Bag Size                   0.0\n",
            "Waste Bag Weekly Count           0.0\n",
            "How Long TV PC Daily Hour        0.0\n",
            "How Many New Clothes Monthly     0.0\n",
            "How Long Internet Daily Hour     0.0\n",
            "Energy efficiency                0.0\n",
            "Recycling                        0.0\n",
            "Cooking_With                     0.0\n",
            "CarbonEmission                   0.0\n",
            "dtype: float64\n"
          ]
        }
      ]
    },
    {
      "cell_type": "code",
      "source": [
        "# Eksik oranı %60’tan fazla olan sütunları kontrol et\n",
        "missing_ratio = df.isnull().mean() * 100\n",
        "high_missing_cols = missing_ratio[missing_ratio > 60].index.tolist()\n",
        "print(\"Çıkartılabilecek sütunlar:\", high_missing_cols)\n",
        "\n",
        "# Bu sütunları çıkart\n",
        "df = df.drop(columns=high_missing_cols)\n",
        "\n"
      ],
      "metadata": {
        "colab": {
          "base_uri": "https://localhost:8080/"
        },
        "id": "9VXz0fo_3aFo",
        "outputId": "5a21fa52-6af8-4394-83c5-aa0efcac8e7a"
      },
      "execution_count": null,
      "outputs": [
        {
          "output_type": "stream",
          "name": "stdout",
          "text": [
            "Çıkartılabilecek sütunlar: ['Vehicle Type']\n"
          ]
        }
      ]
    },
    {
      "cell_type": "code",
      "source": [
        "\n",
        "df = pd.read_csv(\"Carbon_Emission.csv\")\n"
      ],
      "metadata": {
        "id": "BFPqMcKJ3nNr"
      },
      "execution_count": null,
      "outputs": []
    },
    {
      "cell_type": "code",
      "source": [
        "print(df['Vehicle Type'].value_counts())\n"
      ],
      "metadata": {
        "colab": {
          "base_uri": "https://localhost:8080/"
        },
        "id": "m15k_gc45FvR",
        "outputId": "abe1b59f-d073-42df-a1b8-206d5a97e83e"
      },
      "execution_count": null,
      "outputs": [
        {
          "output_type": "stream",
          "name": "stdout",
          "text": [
            "Vehicle Type\n",
            "lpg         697\n",
            "electric    671\n",
            "petrol      647\n",
            "hybrid      642\n",
            "diesel      622\n",
            "Name: count, dtype: int64\n"
          ]
        }
      ]
    },
    {
      "cell_type": "code",
      "source": [
        "print(df['Transport'].value_counts())"
      ],
      "metadata": {
        "colab": {
          "base_uri": "https://localhost:8080/"
        },
        "id": "EQEz5kiX7N7_",
        "outputId": "0f0368ce-11c4-497a-a6c3-8673b66796d5"
      },
      "execution_count": null,
      "outputs": [
        {
          "output_type": "stream",
          "name": "stdout",
          "text": [
            "Transport\n",
            "walk/bicycle    3427\n",
            "public          3294\n",
            "private         3279\n",
            "Name: count, dtype: int64\n"
          ]
        }
      ]
    },
    {
      "cell_type": "code",
      "source": [
        "# Transport bilgisiyle araçsız olanları seç\n",
        "no_vehicle_mask = df['Transport'].isin(['walk/bicycle', 'public'])\n",
        "\n",
        "# Araçsız kullanıcılar için 'Not Applicable' olarak doldur\n",
        "df.loc[no_vehicle_mask, 'Vehicle Type'] = 'Not Applicable'\n",
        "\n",
        "# Diğer eksik kalanlar için mod ile doldur\n",
        "df['Vehicle Type'] = df['Vehicle Type'].fillna(df['Vehicle Type'].mode()[0])\n",
        "\n",
        "\n",
        "\n"
      ],
      "metadata": {
        "collapsed": true,
        "id": "UZLm4HXD592h"
      },
      "execution_count": null,
      "outputs": []
    },
    {
      "cell_type": "code",
      "source": [
        "print(df['Vehicle Type'].value_counts())"
      ],
      "metadata": {
        "colab": {
          "base_uri": "https://localhost:8080/",
          "height": 582
        },
        "id": "iT5Nk1o375ES",
        "outputId": "4d9f03c6-e9b3-40aa-cb77-aa1d3f2b3470"
      },
      "execution_count": null,
      "outputs": [
        {
          "output_type": "error",
          "ename": "KeyError",
          "evalue": "'Vehicle Type'",
          "traceback": [
            "\u001b[0;31m---------------------------------------------------------------------------\u001b[0m",
            "\u001b[0;31mKeyError\u001b[0m                                  Traceback (most recent call last)",
            "\u001b[0;32m/usr/local/lib/python3.11/dist-packages/pandas/core/indexes/base.py\u001b[0m in \u001b[0;36mget_loc\u001b[0;34m(self, key)\u001b[0m\n\u001b[1;32m   3804\u001b[0m         \u001b[0;32mtry\u001b[0m\u001b[0;34m:\u001b[0m\u001b[0;34m\u001b[0m\u001b[0;34m\u001b[0m\u001b[0m\n\u001b[0;32m-> 3805\u001b[0;31m             \u001b[0;32mreturn\u001b[0m \u001b[0mself\u001b[0m\u001b[0;34m.\u001b[0m\u001b[0m_engine\u001b[0m\u001b[0;34m.\u001b[0m\u001b[0mget_loc\u001b[0m\u001b[0;34m(\u001b[0m\u001b[0mcasted_key\u001b[0m\u001b[0;34m)\u001b[0m\u001b[0;34m\u001b[0m\u001b[0;34m\u001b[0m\u001b[0m\n\u001b[0m\u001b[1;32m   3806\u001b[0m         \u001b[0;32mexcept\u001b[0m \u001b[0mKeyError\u001b[0m \u001b[0;32mas\u001b[0m \u001b[0merr\u001b[0m\u001b[0;34m:\u001b[0m\u001b[0;34m\u001b[0m\u001b[0;34m\u001b[0m\u001b[0m\n",
            "\u001b[0;32mindex.pyx\u001b[0m in \u001b[0;36mpandas._libs.index.IndexEngine.get_loc\u001b[0;34m()\u001b[0m\n",
            "\u001b[0;32mindex.pyx\u001b[0m in \u001b[0;36mpandas._libs.index.IndexEngine.get_loc\u001b[0;34m()\u001b[0m\n",
            "\u001b[0;32mindex.pyx\u001b[0m in \u001b[0;36mpandas._libs.index.IndexEngine._get_loc_duplicates\u001b[0;34m()\u001b[0m\n",
            "\u001b[0;32mindex.pyx\u001b[0m in \u001b[0;36mpandas._libs.index.IndexEngine._maybe_get_bool_indexer\u001b[0;34m()\u001b[0m\n",
            "\u001b[0;32mindex.pyx\u001b[0m in \u001b[0;36mpandas._libs.index._unpack_bool_indexer\u001b[0;34m()\u001b[0m\n",
            "\u001b[0;31mKeyError\u001b[0m: 'Vehicle Type'",
            "\nThe above exception was the direct cause of the following exception:\n",
            "\u001b[0;31mKeyError\u001b[0m                                  Traceback (most recent call last)",
            "\u001b[0;32m<ipython-input-62-ee5bac963d74>\u001b[0m in \u001b[0;36m<cell line: 0>\u001b[0;34m()\u001b[0m\n\u001b[0;32m----> 1\u001b[0;31m \u001b[0mprint\u001b[0m\u001b[0;34m(\u001b[0m\u001b[0mdf\u001b[0m\u001b[0;34m[\u001b[0m\u001b[0;34m'Vehicle Type'\u001b[0m\u001b[0;34m]\u001b[0m\u001b[0;34m.\u001b[0m\u001b[0mvalue_counts\u001b[0m\u001b[0;34m(\u001b[0m\u001b[0;34m)\u001b[0m\u001b[0;34m)\u001b[0m\u001b[0;34m\u001b[0m\u001b[0;34m\u001b[0m\u001b[0m\n\u001b[0m",
            "\u001b[0;32m/usr/local/lib/python3.11/dist-packages/pandas/core/frame.py\u001b[0m in \u001b[0;36m__getitem__\u001b[0;34m(self, key)\u001b[0m\n\u001b[1;32m   4100\u001b[0m             \u001b[0;32mif\u001b[0m \u001b[0mself\u001b[0m\u001b[0;34m.\u001b[0m\u001b[0mcolumns\u001b[0m\u001b[0;34m.\u001b[0m\u001b[0mnlevels\u001b[0m \u001b[0;34m>\u001b[0m \u001b[0;36m1\u001b[0m\u001b[0;34m:\u001b[0m\u001b[0;34m\u001b[0m\u001b[0;34m\u001b[0m\u001b[0m\n\u001b[1;32m   4101\u001b[0m                 \u001b[0;32mreturn\u001b[0m \u001b[0mself\u001b[0m\u001b[0;34m.\u001b[0m\u001b[0m_getitem_multilevel\u001b[0m\u001b[0;34m(\u001b[0m\u001b[0mkey\u001b[0m\u001b[0;34m)\u001b[0m\u001b[0;34m\u001b[0m\u001b[0;34m\u001b[0m\u001b[0m\n\u001b[0;32m-> 4102\u001b[0;31m             \u001b[0mindexer\u001b[0m \u001b[0;34m=\u001b[0m \u001b[0mself\u001b[0m\u001b[0;34m.\u001b[0m\u001b[0mcolumns\u001b[0m\u001b[0;34m.\u001b[0m\u001b[0mget_loc\u001b[0m\u001b[0;34m(\u001b[0m\u001b[0mkey\u001b[0m\u001b[0;34m)\u001b[0m\u001b[0;34m\u001b[0m\u001b[0;34m\u001b[0m\u001b[0m\n\u001b[0m\u001b[1;32m   4103\u001b[0m             \u001b[0;32mif\u001b[0m \u001b[0mis_integer\u001b[0m\u001b[0;34m(\u001b[0m\u001b[0mindexer\u001b[0m\u001b[0;34m)\u001b[0m\u001b[0;34m:\u001b[0m\u001b[0;34m\u001b[0m\u001b[0;34m\u001b[0m\u001b[0m\n\u001b[1;32m   4104\u001b[0m                 \u001b[0mindexer\u001b[0m \u001b[0;34m=\u001b[0m \u001b[0;34m[\u001b[0m\u001b[0mindexer\u001b[0m\u001b[0;34m]\u001b[0m\u001b[0;34m\u001b[0m\u001b[0;34m\u001b[0m\u001b[0m\n",
            "\u001b[0;32m/usr/local/lib/python3.11/dist-packages/pandas/core/indexes/base.py\u001b[0m in \u001b[0;36mget_loc\u001b[0;34m(self, key)\u001b[0m\n\u001b[1;32m   3810\u001b[0m             ):\n\u001b[1;32m   3811\u001b[0m                 \u001b[0;32mraise\u001b[0m \u001b[0mInvalidIndexError\u001b[0m\u001b[0;34m(\u001b[0m\u001b[0mkey\u001b[0m\u001b[0;34m)\u001b[0m\u001b[0;34m\u001b[0m\u001b[0;34m\u001b[0m\u001b[0m\n\u001b[0;32m-> 3812\u001b[0;31m             \u001b[0;32mraise\u001b[0m \u001b[0mKeyError\u001b[0m\u001b[0;34m(\u001b[0m\u001b[0mkey\u001b[0m\u001b[0;34m)\u001b[0m \u001b[0;32mfrom\u001b[0m \u001b[0merr\u001b[0m\u001b[0;34m\u001b[0m\u001b[0;34m\u001b[0m\u001b[0m\n\u001b[0m\u001b[1;32m   3813\u001b[0m         \u001b[0;32mexcept\u001b[0m \u001b[0mTypeError\u001b[0m\u001b[0;34m:\u001b[0m\u001b[0;34m\u001b[0m\u001b[0;34m\u001b[0m\u001b[0m\n\u001b[1;32m   3814\u001b[0m             \u001b[0;31m# If we have a listlike key, _check_indexing_error will raise\u001b[0m\u001b[0;34m\u001b[0m\u001b[0;34m\u001b[0m\u001b[0m\n",
            "\u001b[0;31mKeyError\u001b[0m: 'Vehicle Type'"
          ]
        }
      ]
    },
    {
      "cell_type": "code",
      "source": [
        "print(df['Energy efficiency'].value_counts())"
      ],
      "metadata": {
        "colab": {
          "base_uri": "https://localhost:8080/"
        },
        "id": "u_OuomVK-6aa",
        "outputId": "58c246a7-4d18-4f45-99c3-7afb029547d4"
      },
      "execution_count": null,
      "outputs": [
        {
          "output_type": "stream",
          "name": "stdout",
          "text": [
            "Energy efficiency\n",
            "Sometimes    3463\n",
            "Yes          3316\n",
            "No           3221\n",
            "Name: count, dtype: int64\n"
          ]
        }
      ]
    },
    {
      "cell_type": "code",
      "source": [
        "print(df['Frequency of Traveling by Air'].value_counts())"
      ],
      "metadata": {
        "colab": {
          "base_uri": "https://localhost:8080/"
        },
        "id": "e_N8r2i-_FnA",
        "outputId": "961f167b-3180-4d2c-ae3e-b4c0af084352"
      },
      "execution_count": null,
      "outputs": [
        {
          "output_type": "stream",
          "name": "stdout",
          "text": [
            "Frequency of Traveling by Air\n",
            "very frequently    2540\n",
            "frequently         2524\n",
            "rarely             2477\n",
            "never              2459\n",
            "Name: count, dtype: int64\n"
          ]
        }
      ]
    },
    {
      "cell_type": "code",
      "source": [
        "print(df['How Often Shower'].value_counts())"
      ],
      "metadata": {
        "colab": {
          "base_uri": "https://localhost:8080/"
        },
        "id": "Jhp2y48o_NiW",
        "outputId": "088eacc6-07a3-4208-874f-9f9d4310a3cb"
      },
      "execution_count": null,
      "outputs": [
        {
          "output_type": "stream",
          "name": "stdout",
          "text": [
            "How Often Shower\n",
            "daily              2546\n",
            "twice a day        2516\n",
            "less frequently    2487\n",
            "more frequently    2451\n",
            "Name: count, dtype: int64\n"
          ]
        }
      ]
    },
    {
      "cell_type": "code",
      "source": [
        "print(df['Social Activity'].value_counts())"
      ],
      "metadata": {
        "colab": {
          "base_uri": "https://localhost:8080/"
        },
        "id": "-BjsaX-g_aB9",
        "outputId": "e611c551-7a52-48e6-e5dc-2bbf2784bf54"
      },
      "execution_count": null,
      "outputs": [
        {
          "output_type": "stream",
          "name": "stdout",
          "text": [
            "Social Activity\n",
            "never        3406\n",
            "often        3319\n",
            "sometimes    3275\n",
            "Name: count, dtype: int64\n"
          ]
        }
      ]
    },
    {
      "cell_type": "code",
      "source": [
        "print(df['Waste Bag Size'].value_counts())"
      ],
      "metadata": {
        "colab": {
          "base_uri": "https://localhost:8080/"
        },
        "id": "aXy6KdhqA7gC",
        "outputId": "93790024-7fca-4613-9b2c-823dcfa3bb77"
      },
      "execution_count": null,
      "outputs": [
        {
          "output_type": "stream",
          "name": "stdout",
          "text": [
            "Waste Bag Size\n",
            "small          2525\n",
            "large          2501\n",
            "extra large    2500\n",
            "medium         2474\n",
            "Name: count, dtype: int64\n"
          ]
        }
      ]
    },
    {
      "cell_type": "code",
      "source": [
        "from sklearn.preprocessing import OrdinalEncoder\n",
        "\n",
        "ordinal_features = {\n",
        "    'Energy efficiency': ['No', 'Yes','Sometimes'],\n",
        "    'Frequency of Traveling by Air': ['very frequently', 'frequently', 'rarely', 'never',],\n",
        "    'How Often Shower': ['daily','twice a day', 'less frequently','more frequently'],\n",
        "    'Social Activity': ['never','often','sometimes'],\n",
        "    'Waste Bag Size': ['small', 'medium', 'large', 'extra large']\n",
        "}\n",
        "\n",
        "for feature, order in ordinal_features.items():\n",
        "    encoder = OrdinalEncoder(categories=[order])\n",
        "    df[feature + '_encoded'] = encoder.fit_transform(df[[feature]])\n"
      ],
      "metadata": {
        "id": "YT6yySBz-ZDu"
      },
      "execution_count": null,
      "outputs": []
    },
    {
      "cell_type": "code",
      "source": [
        "nominal_features = ['Diet', 'Transport', 'Heating Energy Source', 'Body Type', 'Sex', 'Vehicle Type', 'Cooking_With','Recycling','Cooking_With']\n",
        "\n",
        "df = pd.get_dummies(df, columns=nominal_features, drop_first=True)\n",
        "#binary forma çevirir ve sütün olarak ekler eskilerini siler\n"
      ],
      "metadata": {
        "id": "TE610G_fBca6"
      },
      "execution_count": null,
      "outputs": []
    },
    {
      "cell_type": "code",
      "source": [
        "from sklearn.preprocessing import StandardScaler\n",
        "\n",
        "numerical_features = ['Monthly Grocery Bill', 'Vehicle Monthly Distance Km',\n",
        "                     'Waste Bag Weekly Count', 'How Many New Clothes Monthly']\n",
        "\n",
        "scaler = StandardScaler()\n",
        "df[numerical_features] = scaler.fit_transform(df[numerical_features])\n"
      ],
      "metadata": {
        "id": "rUP50TcsF3n_"
      },
      "execution_count": null,
      "outputs": []
    },
    {
      "cell_type": "code",
      "source": [
        "# EmissionLevel (low, medium, high) stratify için tekrar oluşturulabilir\n",
        "df['EmissionLevel'] = pd.qcut(df['CarbonEmission'], q=3, labels=[\"Low\", \"Medium\", \"High\"])\n",
        "\n",
        "X = df.drop(columns=['CarbonEmission', 'EmissionLevel'])\n",
        "y = df['CarbonEmission']\n",
        "\n",
        "from sklearn.model_selection import train_test_split\n",
        "\n",
        "X_train, X_test, y_train, y_test = train_test_split(\n",
        "    X, y, test_size=0.2, stratify=df['EmissionLevel'], random_state=42\n",
        ")\n"
      ],
      "metadata": {
        "id": "2Oq1vKnMF7Bm"
      },
      "execution_count": null,
      "outputs": []
    }
  ]
}